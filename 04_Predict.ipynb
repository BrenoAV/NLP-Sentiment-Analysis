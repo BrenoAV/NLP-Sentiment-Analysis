{
 "cells": [
  {
   "cell_type": "markdown",
   "id": "86576c8b-28d2-4192-afae-91ed3fe47dea",
   "metadata": {},
   "source": [
    "# Predict"
   ]
  },
  {
   "cell_type": "code",
   "execution_count": 1,
   "id": "4eb1c230-3586-4a0c-9ef4-9ff476010053",
   "metadata": {},
   "outputs": [
    {
     "name": "stdout",
     "output_type": "stream",
     "text": [
      "WARNING:tensorflow:From C:\\Users\\BVIEIRA1\\tmp\\hello-mlflow\\.venv\\lib\\site-packages\\keras\\src\\losses.py:2976: The name tf.losses.sparse_softmax_cross_entropy is deprecated. Please use tf.compat.v1.losses.sparse_softmax_cross_entropy instead.\n",
      "\n"
     ]
    }
   ],
   "source": [
    "import pickle\n",
    "import pandas as pd\n",
    "from keras.preprocessing.sequence import pad_sequences"
   ]
  },
  {
   "cell_type": "code",
   "execution_count": 2,
   "id": "af87a249-a02f-412c-84b2-234b6b52e151",
   "metadata": {},
   "outputs": [],
   "source": [
    "with open(\"tokenizer.pkl\", \"rb\") as f:\n",
    "    tokenizer = pickle.load(f)"
   ]
  },
  {
   "cell_type": "code",
   "execution_count": 3,
   "id": "ac7f077a-72da-4331-81e2-6b667db03186",
   "metadata": {},
   "outputs": [],
   "source": [
    "data_test = [\"Great value tablet! Also you have to add the book cover to your order\", \n",
    "             \"Not good restaurant\"]"
   ]
  },
  {
   "cell_type": "code",
   "execution_count": 4,
   "id": "05fbe6ac-dd23-410c-af27-2e1e58209cd6",
   "metadata": {},
   "outputs": [
    {
     "data": {
      "text/plain": [
       "[[20, 528, 68, 22, 23, 7, 1554, 1, 511, 670, 7, 63, 304], [14, 18, 190]]"
      ]
     },
     "execution_count": 4,
     "metadata": {},
     "output_type": "execute_result"
    }
   ],
   "source": [
    "tokenizer.texts_to_sequences(data_test)"
   ]
  },
  {
   "cell_type": "code",
   "execution_count": 5,
   "id": "fde0b452-00e4-4446-8066-75741d0d42a1",
   "metadata": {},
   "outputs": [],
   "source": [
    "data_test_encoded = tokenizer.texts_to_sequences(data_test)\n",
    "data_test_encoded = pad_sequences(data_test_encoded, maxlen=100, padding=\"post\")"
   ]
  },
  {
   "cell_type": "code",
   "execution_count": 6,
   "id": "0d38af03-15d0-478c-92c3-f1822b576d7f",
   "metadata": {},
   "outputs": [
    {
     "data": {
      "text/plain": [
       "array([[0.24346505],\n",
       "       [0.12128786]], dtype=float32)"
      ]
     },
     "execution_count": 6,
     "metadata": {},
     "output_type": "execute_result"
    }
   ],
   "source": [
    "import mlflow.pyfunc\n",
    "\n",
    "model_name = \"final-model\"\n",
    "model_version = 1\n",
    "\n",
    "model = mlflow.pyfunc.load_model(model_uri=f\"models:/{model_name}/{model_version}\")\n",
    "\n",
    "model.predict(data_test_encoded)"
   ]
  },
  {
   "cell_type": "code",
   "execution_count": null,
   "id": "2652c6a9-d989-4fca-b30d-cb032e2fda56",
   "metadata": {},
   "outputs": [],
   "source": []
  }
 ],
 "metadata": {
  "kernelspec": {
   "display_name": "Python 3 (ipykernel)",
   "language": "python",
   "name": "python3"
  },
  "language_info": {
   "codemirror_mode": {
    "name": "ipython",
    "version": 3
   },
   "file_extension": ".py",
   "mimetype": "text/x-python",
   "name": "python",
   "nbconvert_exporter": "python",
   "pygments_lexer": "ipython3",
   "version": "3.10.10"
  }
 },
 "nbformat": 4,
 "nbformat_minor": 5
}
