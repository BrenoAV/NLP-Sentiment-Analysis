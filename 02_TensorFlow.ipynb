{
 "cells": [
  {
   "cell_type": "markdown",
   "id": "4fb24db8-1a1a-4b7b-9a4c-d1138af91058",
   "metadata": {},
   "source": [
    "# TensorFlow / Keras"
   ]
  },
  {
   "cell_type": "markdown",
   "id": "5f594aaf-12f5-46f2-8714-b17d7d5d4eb0",
   "metadata": {},
   "source": [
    "# Load Dataset"
   ]
  },
  {
   "cell_type": "code",
   "execution_count": 1,
   "id": "f0076038-b259-4e47-b1fa-c0dcee2d900c",
   "metadata": {},
   "outputs": [],
   "source": [
    "import pandas as pd"
   ]
  },
  {
   "cell_type": "code",
   "execution_count": 2,
   "id": "327d7726-4d48-452d-8a99-2fe0bda7e6ab",
   "metadata": {},
   "outputs": [],
   "source": [
    "df = pd.read_csv(\"data.csv\", sep=\"\\t\", encoding=\"utf-8\")"
   ]
  },
  {
   "cell_type": "code",
   "execution_count": 3,
   "id": "5873de6f-6301-4201-8094-59c28428268d",
   "metadata": {},
   "outputs": [
    {
     "data": {
      "text/html": [
       "<div>\n",
       "<style scoped>\n",
       "    .dataframe tbody tr th:only-of-type {\n",
       "        vertical-align: middle;\n",
       "    }\n",
       "\n",
       "    .dataframe tbody tr th {\n",
       "        vertical-align: top;\n",
       "    }\n",
       "\n",
       "    .dataframe thead th {\n",
       "        text-align: right;\n",
       "    }\n",
       "</style>\n",
       "<table border=\"1\" class=\"dataframe\">\n",
       "  <thead>\n",
       "    <tr style=\"text-align: right;\">\n",
       "      <th></th>\n",
       "      <th>sentence</th>\n",
       "      <th>target</th>\n",
       "      <th>source</th>\n",
       "    </tr>\n",
       "  </thead>\n",
       "  <tbody>\n",
       "    <tr>\n",
       "      <th>0</th>\n",
       "      <td>So there is no way for me to plug it in here i...</td>\n",
       "      <td>0</td>\n",
       "      <td>amazon</td>\n",
       "    </tr>\n",
       "    <tr>\n",
       "      <th>1</th>\n",
       "      <td>Good case, Excellent value.</td>\n",
       "      <td>1</td>\n",
       "      <td>amazon</td>\n",
       "    </tr>\n",
       "    <tr>\n",
       "      <th>2</th>\n",
       "      <td>Great for the jawbone.</td>\n",
       "      <td>1</td>\n",
       "      <td>amazon</td>\n",
       "    </tr>\n",
       "    <tr>\n",
       "      <th>3</th>\n",
       "      <td>Tied to charger for conversations lasting more...</td>\n",
       "      <td>0</td>\n",
       "      <td>amazon</td>\n",
       "    </tr>\n",
       "    <tr>\n",
       "      <th>4</th>\n",
       "      <td>The mic is great.</td>\n",
       "      <td>1</td>\n",
       "      <td>amazon</td>\n",
       "    </tr>\n",
       "    <tr>\n",
       "      <th>...</th>\n",
       "      <td>...</td>\n",
       "      <td>...</td>\n",
       "      <td>...</td>\n",
       "    </tr>\n",
       "    <tr>\n",
       "      <th>2743</th>\n",
       "      <td>I think food should have flavor and texture an...</td>\n",
       "      <td>0</td>\n",
       "      <td>yelp</td>\n",
       "    </tr>\n",
       "    <tr>\n",
       "      <th>2744</th>\n",
       "      <td>Appetite instantly gone.</td>\n",
       "      <td>0</td>\n",
       "      <td>yelp</td>\n",
       "    </tr>\n",
       "    <tr>\n",
       "      <th>2745</th>\n",
       "      <td>Overall I was not impressed and would not go b...</td>\n",
       "      <td>0</td>\n",
       "      <td>yelp</td>\n",
       "    </tr>\n",
       "    <tr>\n",
       "      <th>2746</th>\n",
       "      <td>The whole experience was underwhelming, and I ...</td>\n",
       "      <td>0</td>\n",
       "      <td>yelp</td>\n",
       "    </tr>\n",
       "    <tr>\n",
       "      <th>2747</th>\n",
       "      <td>Then, as if I hadn't wasted enough of my life ...</td>\n",
       "      <td>0</td>\n",
       "      <td>yelp</td>\n",
       "    </tr>\n",
       "  </tbody>\n",
       "</table>\n",
       "<p>2748 rows × 3 columns</p>\n",
       "</div>"
      ],
      "text/plain": [
       "                                               sentence  target  source\n",
       "0     So there is no way for me to plug it in here i...       0  amazon\n",
       "1                           Good case, Excellent value.       1  amazon\n",
       "2                                Great for the jawbone.       1  amazon\n",
       "3     Tied to charger for conversations lasting more...       0  amazon\n",
       "4                                     The mic is great.       1  amazon\n",
       "...                                                 ...     ...     ...\n",
       "2743  I think food should have flavor and texture an...       0    yelp\n",
       "2744                           Appetite instantly gone.       0    yelp\n",
       "2745  Overall I was not impressed and would not go b...       0    yelp\n",
       "2746  The whole experience was underwhelming, and I ...       0    yelp\n",
       "2747  Then, as if I hadn't wasted enough of my life ...       0    yelp\n",
       "\n",
       "[2748 rows x 3 columns]"
      ]
     },
     "execution_count": 3,
     "metadata": {},
     "output_type": "execute_result"
    }
   ],
   "source": [
    "df"
   ]
  },
  {
   "cell_type": "markdown",
   "id": "d1ea990a-81f9-4856-9489-79f2e32db434",
   "metadata": {},
   "source": [
    "## Split dataset"
   ]
  },
  {
   "cell_type": "code",
   "execution_count": 4,
   "id": "656542ce-5931-49de-8e49-f975babe63fb",
   "metadata": {},
   "outputs": [],
   "source": [
    "from sklearn.model_selection import train_test_split"
   ]
  },
  {
   "cell_type": "code",
   "execution_count": 5,
   "id": "92ad2a7a-e6ec-4422-b35f-ae677afd9f09",
   "metadata": {},
   "outputs": [],
   "source": [
    "X_train, X_test, y_train, y_test = train_test_split(df[\"sentence\"], df[\"target\"], test_size=0.2, random_state=123)"
   ]
  },
  {
   "cell_type": "code",
   "execution_count": 6,
   "id": "fdfb758e-4c94-4ea9-99fa-366fa01efe1f",
   "metadata": {},
   "outputs": [
    {
     "data": {
      "text/plain": [
       "((2198,), (2198,))"
      ]
     },
     "execution_count": 6,
     "metadata": {},
     "output_type": "execute_result"
    }
   ],
   "source": [
    "X_train.shape, y_train.shape"
   ]
  },
  {
   "cell_type": "code",
   "execution_count": 7,
   "id": "e1bb92d8-8acf-49c1-b802-c6304ce14c13",
   "metadata": {},
   "outputs": [
    {
     "data": {
      "text/plain": [
       "((550,), (550,))"
      ]
     },
     "execution_count": 7,
     "metadata": {},
     "output_type": "execute_result"
    }
   ],
   "source": [
    "X_test.shape, y_test.shape"
   ]
  },
  {
   "cell_type": "markdown",
   "id": "e0b73b74-72d2-48e7-82b2-1e07bfb07b1e",
   "metadata": {},
   "source": [
    "# Preprocessing"
   ]
  },
  {
   "cell_type": "code",
   "execution_count": 8,
   "id": "b851f8dc-5f3e-46f7-99c6-32bd4c55737a",
   "metadata": {},
   "outputs": [
    {
     "name": "stdout",
     "output_type": "stream",
     "text": [
      "WARNING:tensorflow:From C:\\Users\\BVIEIRA1\\tmp\\hello-mlflow\\.venv\\lib\\site-packages\\keras\\src\\losses.py:2976: The name tf.losses.sparse_softmax_cross_entropy is deprecated. Please use tf.compat.v1.losses.sparse_softmax_cross_entropy instead.\n",
      "\n"
     ]
    }
   ],
   "source": [
    "from keras.preprocessing.text import Tokenizer\n",
    "from keras.preprocessing.sequence import pad_sequences"
   ]
  },
  {
   "cell_type": "code",
   "execution_count": 9,
   "id": "d6ff0668-f658-4803-bbf4-4fce2792e288",
   "metadata": {},
   "outputs": [],
   "source": [
    "NUM_WORDS = 5000\n",
    "MAX_LEN = 100\n",
    "\n",
    "tokenizer = Tokenizer(num_words=NUM_WORDS)\n",
    "tokenizer.fit_on_texts(X_train)  # Important be only the train data!!!"
   ]
  },
  {
   "cell_type": "code",
   "execution_count": 11,
   "id": "633f12f3-bbba-4230-8bda-5d2336c268ca",
   "metadata": {},
   "outputs": [],
   "source": [
    "import pickle\n",
    "\n",
    "with open(\"tokenizer.pkl\", \"wb\") as f:\n",
    "    pickle.dump(tokenizer, f)"
   ]
  },
  {
   "cell_type": "code",
   "execution_count": 14,
   "id": "472332c7-5269-49f1-b5b2-5bb35757f76a",
   "metadata": {},
   "outputs": [],
   "source": [
    "X_train_encoded = tokenizer.texts_to_sequences(X_train)\n",
    "X_test_encoded = tokenizer.texts_to_sequences(X_test)"
   ]
  },
  {
   "cell_type": "code",
   "execution_count": 15,
   "id": "d530a358-8b96-4ee3-a577-5cd909588533",
   "metadata": {},
   "outputs": [
    {
     "data": {
      "text/plain": [
       "[[1, 1213, 5, 20]]"
      ]
     },
     "execution_count": 15,
     "metadata": {},
     "output_type": "execute_result"
    }
   ],
   "source": [
    "tokenizer.texts_to_sequences([\"The mic is great.\"])"
   ]
  },
  {
   "cell_type": "code",
   "execution_count": 16,
   "id": "9cd66f53-52af-43b3-b25f-782eb44924e5",
   "metadata": {},
   "outputs": [],
   "source": [
    "X_train_encoded = pad_sequences(X_train_encoded, maxlen=MAX_LEN, padding=\"post\")\n",
    "X_test_encoded = pad_sequences(X_test_encoded, maxlen=MAX_LEN, padding=\"post\")"
   ]
  },
  {
   "cell_type": "code",
   "execution_count": 17,
   "id": "a1e19da4-3614-4c22-af44-624ec914eaa2",
   "metadata": {},
   "outputs": [
    {
     "data": {
      "text/plain": [
       "((2198, 100), (550, 100))"
      ]
     },
     "execution_count": 17,
     "metadata": {},
     "output_type": "execute_result"
    }
   ],
   "source": [
    "X_train_encoded.shape, X_test_encoded.shape"
   ]
  },
  {
   "cell_type": "markdown",
   "id": "c5313a82-9f2e-4ebe-8884-6b138ec7ae32",
   "metadata": {},
   "source": [
    "# MLFlow"
   ]
  },
  {
   "cell_type": "code",
   "execution_count": 18,
   "id": "3b5459e9-8113-49f7-bc11-b6f13b701cea",
   "metadata": {},
   "outputs": [],
   "source": [
    "import mlflow\n",
    "from mlflow.data.pandas_dataset import PandasDataset\n",
    "\n",
    "mlflow.set_tracking_uri(uri=\"http://127.0.0.1:8080\")"
   ]
  },
  {
   "cell_type": "code",
   "execution_count": 19,
   "id": "6c986b78-d62c-4f9f-84f4-e6555938b21b",
   "metadata": {},
   "outputs": [
    {
     "name": "stderr",
     "output_type": "stream",
     "text": [
      "C:\\Users\\BVIEIRA1\\tmp\\hello-mlflow\\.venv\\lib\\site-packages\\mlflow\\data\\dataset_source_registry.py:142: UserWarning: The specified dataset source can be interpreted in multiple ways: LocalArtifactDatasetSource, LocalArtifactDatasetSource. MLflow will assume that this is a LocalArtifactDatasetSource source.\n",
      "  return _dataset_source_registry.resolve(\n"
     ]
    }
   ],
   "source": [
    "dataset: PandasDataset = mlflow.data.from_pandas(df, source=\"data.csv\")"
   ]
  },
  {
   "cell_type": "markdown",
   "id": "81bae190-7f8d-4d26-8b23-bcb5262e65a5",
   "metadata": {},
   "source": [
    "# Experiment 3 (Keras)"
   ]
  },
  {
   "cell_type": "code",
   "execution_count": 20,
   "id": "846cb547-6ff6-421d-95e8-748278436412",
   "metadata": {},
   "outputs": [],
   "source": [
    "import tensorflow as tf\n",
    "from keras.models import Sequential\n",
    "from keras.layers import Dense, Embedding, Flatten\n",
    "from sklearn.metrics import accuracy_score, precision_score, recall_score, f1_score"
   ]
  },
  {
   "cell_type": "code",
   "execution_count": 21,
   "id": "084ebc04-64bf-427c-99d8-3d3c123989d2",
   "metadata": {},
   "outputs": [
    {
     "data": {
      "text/plain": [
       "'795147623486966613'"
      ]
     },
     "execution_count": 21,
     "metadata": {},
     "output_type": "execute_result"
    }
   ],
   "source": [
    "experiment_name = \"sentiment_analysis_tf_dense\"\n",
    "\n",
    "experiment_tags = {\n",
    "    \"nlp.framework\": \"TensorFlow\",\n",
    "    \"nlp.encoding\": \"Tokenizer\",\n",
    "    \"nlp.model\": \"Dense Network\",\n",
    "    \"nlp.task\": \"Sentiment Analysis\"\n",
    "}\n",
    "\n",
    "mlflow.create_experiment(name=experiment_name,\n",
    "                         artifact_location=\"mlartifacts\",\n",
    "                         tags=experiment_tags)"
   ]
  },
  {
   "cell_type": "code",
   "execution_count": 22,
   "id": "d2c4771f-beb3-48a4-961a-55f85bb32baf",
   "metadata": {},
   "outputs": [
    {
     "name": "stdout",
     "output_type": "stream",
     "text": [
      "0\n",
      "WARNING:tensorflow:From C:\\Users\\BVIEIRA1\\tmp\\hello-mlflow\\.venv\\lib\\site-packages\\keras\\src\\backend.py:873: The name tf.get_default_graph is deprecated. Please use tf.compat.v1.get_default_graph instead.\n",
      "\n",
      "Model: \"sequential\"\n",
      "_________________________________________________________________\n",
      " Layer (type)                Output Shape              Param #   \n",
      "=================================================================\n",
      " embedding (Embedding)       (None, 100, 50)           231600    \n",
      "                                                                 \n",
      " flatten (Flatten)           (None, 5000)              0         \n",
      "                                                                 \n",
      " dense (Dense)               (None, 1)                 5001      \n",
      "                                                                 \n",
      " dense_1 (Dense)             (None, 1)                 2         \n",
      "                                                                 \n",
      "=================================================================\n",
      "Total params: 236603 (924.23 KB)\n",
      "Trainable params: 236603 (924.23 KB)\n",
      "Non-trainable params: 0 (0.00 Byte)\n",
      "_________________________________________________________________\n",
      "WARNING:tensorflow:From C:\\Users\\BVIEIRA1\\tmp\\hello-mlflow\\.venv\\lib\\site-packages\\keras\\src\\optimizers\\__init__.py:309: The name tf.train.Optimizer is deprecated. Please use tf.compat.v1.train.Optimizer instead.\n",
      "\n",
      "Epoch 1/10\n",
      "WARNING:tensorflow:From C:\\Users\\BVIEIRA1\\tmp\\hello-mlflow\\.venv\\lib\\site-packages\\keras\\src\\utils\\tf_utils.py:492: The name tf.ragged.RaggedTensorValue is deprecated. Please use tf.compat.v1.ragged.RaggedTensorValue instead.\n",
      "\n",
      "WARNING:tensorflow:From C:\\Users\\BVIEIRA1\\tmp\\hello-mlflow\\.venv\\lib\\site-packages\\keras\\src\\engine\\base_layer_utils.py:384: The name tf.executing_eagerly_outside_functions is deprecated. Please use tf.compat.v1.executing_eagerly_outside_functions instead.\n",
      "\n",
      "5/5 - 1s - loss: 0.6931 - accuracy: 0.5073 - val_loss: 0.6932 - val_accuracy: 0.4945 - 1s/epoch - 259ms/step\n",
      "Epoch 2/10\n",
      "5/5 - 0s - loss: 0.6923 - accuracy: 0.5082 - val_loss: 0.6930 - val_accuracy: 0.4945 - 96ms/epoch - 19ms/step\n",
      "Epoch 3/10\n",
      "5/5 - 0s - loss: 0.6914 - accuracy: 0.5191 - val_loss: 0.6926 - val_accuracy: 0.5455 - 83ms/epoch - 17ms/step\n",
      "Epoch 4/10\n",
      "5/5 - 0s - loss: 0.6905 - accuracy: 0.7975 - val_loss: 0.6922 - val_accuracy: 0.5655 - 86ms/epoch - 17ms/step\n",
      "Epoch 5/10\n",
      "5/5 - 0s - loss: 0.6895 - accuracy: 0.5905 - val_loss: 0.6918 - val_accuracy: 0.5364 - 85ms/epoch - 17ms/step\n",
      "Epoch 6/10\n",
      "5/5 - 0s - loss: 0.6877 - accuracy: 0.7757 - val_loss: 0.6915 - val_accuracy: 0.5327 - 89ms/epoch - 18ms/step\n",
      "Epoch 7/10\n",
      "5/5 - 0s - loss: 0.6854 - accuracy: 0.6783 - val_loss: 0.6910 - val_accuracy: 0.5000 - 87ms/epoch - 17ms/step\n",
      "Epoch 8/10\n",
      "5/5 - 0s - loss: 0.6828 - accuracy: 0.6520 - val_loss: 0.6901 - val_accuracy: 0.5291 - 87ms/epoch - 17ms/step\n",
      "Epoch 9/10\n",
      "5/5 - 0s - loss: 0.6792 - accuracy: 0.7875 - val_loss: 0.6887 - val_accuracy: 0.6382 - 86ms/epoch - 17ms/step\n",
      "Epoch 10/10\n",
      "5/5 - 0s - loss: 0.6750 - accuracy: 0.9086 - val_loss: 0.6872 - val_accuracy: 0.6745 - 87ms/epoch - 17ms/step\n",
      "18/18 [==============================] - 0s 2ms/step\n"
     ]
    },
    {
     "name": "stderr",
     "output_type": "stream",
     "text": [
      "C:\\Users\\BVIEIRA1\\tmp\\hello-mlflow\\.venv\\lib\\site-packages\\mlflow\\data\\pandas_dataset.py:116: UserWarning: Hint: Inferred schema contains integer column(s). Integer columns in Python cannot represent missing values. If your input data contains missing values at inference time, it will be encoded as floats and will cause a schema enforcement error. The best way to avoid this problem is to infer the model schema based on a realistic data sample (training dataset) that includes missing values. Alternatively, you can declare integer columns as doubles (float64) whenever these columns may have missing values. See `Handling Integers With Missing Values <https://www.mlflow.org/docs/latest/models.html#handling-integers-with-missing-values>`_ for more details.\n",
      "  return _infer_schema(self._df)\n"
     ]
    },
    {
     "name": "stdout",
     "output_type": "stream",
     "text": [
      "69/69 [==============================] - 0s 1ms/step\n",
      "INFO:tensorflow:Assets written to: C:\\Users\\BVIEIRA1\\tmp\\hello-mlflow\\models\\yelp_model_tf_0\\data\\model\\assets\n"
     ]
    },
    {
     "name": "stderr",
     "output_type": "stream",
     "text": [
      "INFO:tensorflow:Assets written to: C:\\Users\\BVIEIRA1\\tmp\\hello-mlflow\\models\\yelp_model_tf_0\\data\\model\\assets\n"
     ]
    },
    {
     "name": "stdout",
     "output_type": "stream",
     "text": [
      "1\n",
      "Model: \"sequential_1\"\n",
      "_________________________________________________________________\n",
      " Layer (type)                Output Shape              Param #   \n",
      "=================================================================\n",
      " embedding_1 (Embedding)     (None, 100, 50)           231600    \n",
      "                                                                 \n",
      " flatten_1 (Flatten)         (None, 5000)              0         \n",
      "                                                                 \n",
      " dense_2 (Dense)             (None, 10)                50010     \n",
      "                                                                 \n",
      " dense_3 (Dense)             (None, 1)                 11        \n",
      "                                                                 \n",
      "=================================================================\n",
      "Total params: 281621 (1.07 MB)\n",
      "Trainable params: 281621 (1.07 MB)\n",
      "Non-trainable params: 0 (0.00 Byte)\n",
      "_________________________________________________________________\n"
     ]
    },
    {
     "name": "stderr",
     "output_type": "stream",
     "text": [
      "C:\\Users\\BVIEIRA1\\tmp\\hello-mlflow\\.venv\\lib\\site-packages\\_distutils_hack\\__init__.py:33: UserWarning: Setuptools is replacing distutils.\n",
      "  warnings.warn(\"Setuptools is replacing distutils.\")\n"
     ]
    },
    {
     "name": "stdout",
     "output_type": "stream",
     "text": [
      "Epoch 1/40\n",
      "5/5 - 1s - loss: 0.8672 - accuracy: 0.4986 - val_loss: 0.8206 - val_accuracy: 0.4927 - 718ms/epoch - 144ms/step\n",
      "Epoch 2/40\n",
      "5/5 - 0s - loss: 0.8005 - accuracy: 0.5109 - val_loss: 0.7700 - val_accuracy: 0.4927 - 81ms/epoch - 16ms/step\n",
      "Epoch 3/40\n",
      "5/5 - 0s - loss: 0.7550 - accuracy: 0.5091 - val_loss: 0.7351 - val_accuracy: 0.5964 - 84ms/epoch - 17ms/step\n",
      "Epoch 4/40\n",
      "5/5 - 0s - loss: 0.7266 - accuracy: 0.5560 - val_loss: 0.7168 - val_accuracy: 0.4927 - 72ms/epoch - 14ms/step\n",
      "Epoch 5/40\n",
      "5/5 - 0s - loss: 0.7050 - accuracy: 0.5883 - val_loss: 0.7035 - val_accuracy: 0.6636 - 76ms/epoch - 15ms/step\n",
      "Epoch 6/40\n",
      "5/5 - 0s - loss: 0.6897 - accuracy: 0.7106 - val_loss: 0.6955 - val_accuracy: 0.6182 - 69ms/epoch - 14ms/step\n",
      "Epoch 7/40\n",
      "5/5 - 0s - loss: 0.6737 - accuracy: 0.8312 - val_loss: 0.6889 - val_accuracy: 0.6891 - 81ms/epoch - 16ms/step\n",
      "Epoch 8/40\n",
      "5/5 - 0s - loss: 0.6554 - accuracy: 0.8731 - val_loss: 0.6824 - val_accuracy: 0.6891 - 79ms/epoch - 16ms/step\n",
      "Epoch 9/40\n",
      "5/5 - 0s - loss: 0.6331 - accuracy: 0.8840 - val_loss: 0.6760 - val_accuracy: 0.6691 - 77ms/epoch - 15ms/step\n",
      "Epoch 10/40\n",
      "5/5 - 0s - loss: 0.6079 - accuracy: 0.8098 - val_loss: 0.6669 - val_accuracy: 0.7127 - 65ms/epoch - 13ms/step\n",
      "Epoch 11/40\n",
      "5/5 - 0s - loss: 0.5716 - accuracy: 0.9277 - val_loss: 0.6583 - val_accuracy: 0.7291 - 106ms/epoch - 21ms/step\n",
      "Epoch 12/40\n",
      "5/5 - 0s - loss: 0.5347 - accuracy: 0.9327 - val_loss: 0.6521 - val_accuracy: 0.7182 - 83ms/epoch - 17ms/step\n",
      "Epoch 13/40\n",
      "5/5 - 0s - loss: 0.4989 - accuracy: 0.9422 - val_loss: 0.6410 - val_accuracy: 0.7455 - 81ms/epoch - 16ms/step\n",
      "Epoch 14/40\n",
      "5/5 - 0s - loss: 0.4630 - accuracy: 0.9486 - val_loss: 0.6351 - val_accuracy: 0.7436 - 96ms/epoch - 19ms/step\n",
      "Epoch 15/40\n",
      "5/5 - 0s - loss: 0.4283 - accuracy: 0.9563 - val_loss: 0.6293 - val_accuracy: 0.7545 - 98ms/epoch - 20ms/step\n",
      "Epoch 16/40\n",
      "5/5 - 0s - loss: 0.4002 - accuracy: 0.9636 - val_loss: 0.6283 - val_accuracy: 0.7436 - 86ms/epoch - 17ms/step\n",
      "Epoch 17/40\n",
      "5/5 - 0s - loss: 0.3751 - accuracy: 0.9650 - val_loss: 0.6194 - val_accuracy: 0.7618 - 94ms/epoch - 19ms/step\n",
      "Epoch 18/40\n",
      "5/5 - 0s - loss: 0.3521 - accuracy: 0.9695 - val_loss: 0.6174 - val_accuracy: 0.7545 - 95ms/epoch - 19ms/step\n",
      "Epoch 19/40\n",
      "5/5 - 0s - loss: 0.3331 - accuracy: 0.9750 - val_loss: 0.6092 - val_accuracy: 0.7800 - 98ms/epoch - 20ms/step\n",
      "Epoch 20/40\n",
      "5/5 - 0s - loss: 0.3172 - accuracy: 0.9800 - val_loss: 0.6161 - val_accuracy: 0.7491 - 100ms/epoch - 20ms/step\n",
      "Epoch 21/40\n",
      "5/5 - 0s - loss: 0.3038 - accuracy: 0.9823 - val_loss: 0.6010 - val_accuracy: 0.7782 - 99ms/epoch - 20ms/step\n",
      "Epoch 22/40\n",
      "5/5 - 0s - loss: 0.2908 - accuracy: 0.9841 - val_loss: 0.5974 - val_accuracy: 0.7873 - 98ms/epoch - 20ms/step\n",
      "Epoch 23/40\n",
      "5/5 - 0s - loss: 0.2781 - accuracy: 0.9873 - val_loss: 0.5965 - val_accuracy: 0.7745 - 91ms/epoch - 18ms/step\n",
      "Epoch 24/40\n",
      "5/5 - 0s - loss: 0.2675 - accuracy: 0.9873 - val_loss: 0.5896 - val_accuracy: 0.7836 - 90ms/epoch - 18ms/step\n",
      "Epoch 25/40\n",
      "5/5 - 0s - loss: 0.2581 - accuracy: 0.9900 - val_loss: 0.5888 - val_accuracy: 0.7782 - 88ms/epoch - 18ms/step\n",
      "Epoch 26/40\n",
      "5/5 - 0s - loss: 0.2503 - accuracy: 0.9918 - val_loss: 0.5850 - val_accuracy: 0.7782 - 94ms/epoch - 19ms/step\n",
      "Epoch 27/40\n",
      "5/5 - 0s - loss: 0.2420 - accuracy: 0.9895 - val_loss: 0.5796 - val_accuracy: 0.7818 - 83ms/epoch - 17ms/step\n",
      "Epoch 28/40\n",
      "5/5 - 0s - loss: 0.2352 - accuracy: 0.9909 - val_loss: 0.5777 - val_accuracy: 0.7818 - 73ms/epoch - 15ms/step\n",
      "Epoch 29/40\n",
      "5/5 - 0s - loss: 0.2294 - accuracy: 0.9923 - val_loss: 0.5894 - val_accuracy: 0.7636 - 75ms/epoch - 15ms/step\n",
      "Epoch 30/40\n",
      "5/5 - 0s - loss: 0.2237 - accuracy: 0.9914 - val_loss: 0.5725 - val_accuracy: 0.7873 - 72ms/epoch - 14ms/step\n",
      "Epoch 31/40\n",
      "5/5 - 0s - loss: 0.2177 - accuracy: 0.9932 - val_loss: 0.5697 - val_accuracy: 0.7818 - 79ms/epoch - 16ms/step\n",
      "Epoch 32/40\n",
      "5/5 - 0s - loss: 0.2118 - accuracy: 0.9932 - val_loss: 0.5724 - val_accuracy: 0.7745 - 85ms/epoch - 17ms/step\n",
      "Epoch 33/40\n",
      "5/5 - 0s - loss: 0.2057 - accuracy: 0.9941 - val_loss: 0.5674 - val_accuracy: 0.7800 - 82ms/epoch - 16ms/step\n",
      "Epoch 34/40\n",
      "5/5 - 0s - loss: 0.2015 - accuracy: 0.9941 - val_loss: 0.5624 - val_accuracy: 0.7873 - 87ms/epoch - 17ms/step\n",
      "Epoch 35/40\n",
      "5/5 - 0s - loss: 0.1964 - accuracy: 0.9950 - val_loss: 0.5668 - val_accuracy: 0.7764 - 103ms/epoch - 21ms/step\n",
      "Epoch 36/40\n",
      "5/5 - 0s - loss: 0.1924 - accuracy: 0.9941 - val_loss: 0.5670 - val_accuracy: 0.7727 - 90ms/epoch - 18ms/step\n",
      "Epoch 37/40\n",
      "5/5 - 0s - loss: 0.1891 - accuracy: 0.9932 - val_loss: 0.5578 - val_accuracy: 0.7873 - 89ms/epoch - 18ms/step\n",
      "Epoch 38/40\n",
      "5/5 - 0s - loss: 0.1858 - accuracy: 0.9950 - val_loss: 0.5553 - val_accuracy: 0.7891 - 107ms/epoch - 21ms/step\n",
      "Epoch 39/40\n",
      "5/5 - 0s - loss: 0.1820 - accuracy: 0.9959 - val_loss: 0.5811 - val_accuracy: 0.7545 - 90ms/epoch - 18ms/step\n",
      "Epoch 40/40\n",
      "5/5 - 0s - loss: 0.1795 - accuracy: 0.9955 - val_loss: 0.5571 - val_accuracy: 0.7891 - 89ms/epoch - 18ms/step\n",
      "18/18 [==============================] - 0s 1ms/step\n",
      "69/69 [==============================] - 0s 1ms/step\n",
      "INFO:tensorflow:Assets written to: C:\\Users\\BVIEIRA1\\tmp\\hello-mlflow\\models\\yelp_model_tf_1\\data\\model\\assets\n"
     ]
    },
    {
     "name": "stderr",
     "output_type": "stream",
     "text": [
      "INFO:tensorflow:Assets written to: C:\\Users\\BVIEIRA1\\tmp\\hello-mlflow\\models\\yelp_model_tf_1\\data\\model\\assets\n"
     ]
    }
   ],
   "source": [
    "mlflow.set_experiment(experiment_name=experiment_name)  # It could be use the ID too\n",
    "\n",
    "params_list = [\n",
    "    {\n",
    "        \"units\": 1,\n",
    "        \"activation\": \"tanh\",\n",
    "        \"kernel_regularizer\": None,\n",
    "        \"epochs\": 10\n",
    "    },\n",
    "    {\n",
    "        \"units\": 10,\n",
    "        \"activation\": \"relu\",\n",
    "        \"kernel_regularizer\": \"l2\",\n",
    "        \"epochs\": 40\n",
    "    }\n",
    "]\n",
    "\n",
    "for i, params in enumerate(params_list):\n",
    "    print(i)\n",
    "\n",
    "    model = Sequential(\n",
    "        [\n",
    "            Embedding(input_dim=len(tokenizer.index_word) + 1, \n",
    "                      output_dim=50, \n",
    "                      input_length=MAX_LEN),\n",
    "            Flatten(),\n",
    "            Dense(units=params[\"units\"], \n",
    "                  activation=params[\"activation\"], \n",
    "                  kernel_regularizer=params[\"kernel_regularizer\"]),\n",
    "            Dense(units=1, activation=\"sigmoid\")\n",
    "        ]\n",
    "    )\n",
    "    \n",
    "    model.summary()\n",
    "\n",
    "    model.compile(optimizer=\"adam\", \n",
    "                  loss=\"binary_crossentropy\", \n",
    "                  metrics=[\"accuracy\"])\n",
    "\n",
    "    history = model.fit(x=X_train_encoded,\n",
    "                        y=y_train, \n",
    "                        batch_size=512, \n",
    "                        epochs=params[\"epochs\"], \n",
    "                        verbose=2, \n",
    "                        validation_data=(X_test_encoded, y_test)\n",
    "    )\n",
    "\n",
    "    y_pred = tf.math.round(model.predict(X_test_encoded))\n",
    "    \n",
    "    accuracy = accuracy_score(y_true=y_test, y_pred=y_pred)\n",
    "    precision = precision_score(y_true=y_test, y_pred=y_pred)\n",
    "    recall = recall_score(y_true=y_test, y_pred=y_pred)\n",
    "    f1 = f1_score(y_true=y_test, y_pred=y_pred)\n",
    "    \n",
    "    metrics = {\n",
    "        \"accuracy\": accuracy,\n",
    "        \"precision\": precision,\n",
    "        \"recall\": recall,\n",
    "        \"f1\": f1\n",
    "    }\n",
    "\n",
    "    run_name = \"_\".join([f\"{k}_{v}\" for k, v in params.items()])\n",
    "    \n",
    "    with mlflow.start_run(run_name=run_name):\n",
    "        # Log the hyperparameters\n",
    "        mlflow.log_params(params)\n",
    "    \n",
    "        # Log the metrics\n",
    "        mlflow.log_metrics(metrics)\n",
    "        ## Graph of accuracies and losses\n",
    "        h = history.history\n",
    "        for j, (train_loss, train_acc, test_loss, test_acc) in enumerate(zip(h[\"loss\"], h[\"accuracy\"], h[\"val_loss\"], h[\"val_accuracy\"])):\n",
    "            mlflow.log_metric(key=\"train_loss\", value=train_loss, step=j)\n",
    "            mlflow.log_metric(key=\"train_acc\", value=train_acc, step=j)\n",
    "            mlflow.log_metric(key=\"test_loss\", value=test_loss, step=j)\n",
    "            mlflow.log_metric(key=\"test_acc\", value=test_acc, step=j)\n",
    "\n",
    "        # Log the dataset\n",
    "        mlflow.log_input(dataset, context=\"training\")\n",
    "    \n",
    "        # Log the model ! New versions it is mlflow.keras !\n",
    "        mlflow.tensorflow.save_model(model=model, path=f\"models/yelp_model_tf_{i}\", input_example=X_train_encoded)\n",
    "        \n",
    "        mlflow.log_artifact(f\"models/yelp_model_tf_{i}\", artifact_path=\"mlartifacts\")"
   ]
  },
  {
   "cell_type": "code",
   "execution_count": null,
   "id": "2ea3344a-8bf8-4f66-a34b-73c14517240d",
   "metadata": {},
   "outputs": [],
   "source": []
  }
 ],
 "metadata": {
  "kernelspec": {
   "display_name": "Python 3 (ipykernel)",
   "language": "python",
   "name": "python3"
  },
  "language_info": {
   "codemirror_mode": {
    "name": "ipython",
    "version": 3
   },
   "file_extension": ".py",
   "mimetype": "text/x-python",
   "name": "python",
   "nbconvert_exporter": "python",
   "pygments_lexer": "ipython3",
   "version": "3.10.10"
  }
 },
 "nbformat": 4,
 "nbformat_minor": 5
}
