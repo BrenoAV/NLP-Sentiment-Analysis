{
 "cells": [
  {
   "cell_type": "markdown",
   "id": "4fb24db8-1a1a-4b7b-9a4c-d1138af91058",
   "metadata": {},
   "source": [
    "# TensorFlow / Keras"
   ]
  },
  {
   "cell_type": "markdown",
   "id": "5116df81-f571-4ed5-93bb-5408ba0dc0e0",
   "metadata": {},
   "source": [
    "- Dense Deep Network using Keras API\n",
    "- Tokenized Data instead of the vector of CountVectorizer with the size of vocab (better scalling)\n",
    "\n",
    "1. [Keras](#Experiment-3-(Keras))\n",
    "\n",
    "**Author:** BrenoAV\n",
    "\n",
    "**Last Date Modified:** 2/2/2024"
   ]
  },
  {
   "cell_type": "markdown",
   "id": "5f594aaf-12f5-46f2-8714-b17d7d5d4eb0",
   "metadata": {},
   "source": [
    "# Load Dataset"
   ]
  },
  {
   "cell_type": "code",
   "execution_count": 1,
   "id": "f0076038-b259-4e47-b1fa-c0dcee2d900c",
   "metadata": {},
   "outputs": [],
   "source": [
    "import pandas as pd"
   ]
  },
  {
   "cell_type": "code",
   "execution_count": 2,
   "id": "327d7726-4d48-452d-8a99-2fe0bda7e6ab",
   "metadata": {},
   "outputs": [],
   "source": [
    "df = pd.read_csv(\"data.csv\", sep=\"\\t\", encoding=\"utf-8\")"
   ]
  },
  {
   "cell_type": "code",
   "execution_count": 3,
   "id": "5873de6f-6301-4201-8094-59c28428268d",
   "metadata": {},
   "outputs": [
    {
     "data": {
      "text/html": [
       "<div>\n",
       "<style scoped>\n",
       "    .dataframe tbody tr th:only-of-type {\n",
       "        vertical-align: middle;\n",
       "    }\n",
       "\n",
       "    .dataframe tbody tr th {\n",
       "        vertical-align: top;\n",
       "    }\n",
       "\n",
       "    .dataframe thead th {\n",
       "        text-align: right;\n",
       "    }\n",
       "</style>\n",
       "<table border=\"1\" class=\"dataframe\">\n",
       "  <thead>\n",
       "    <tr style=\"text-align: right;\">\n",
       "      <th></th>\n",
       "      <th>sentence</th>\n",
       "      <th>target</th>\n",
       "      <th>source</th>\n",
       "    </tr>\n",
       "  </thead>\n",
       "  <tbody>\n",
       "    <tr>\n",
       "      <th>0</th>\n",
       "      <td>So there is no way for me to plug it in here i...</td>\n",
       "      <td>0</td>\n",
       "      <td>amazon</td>\n",
       "    </tr>\n",
       "    <tr>\n",
       "      <th>1</th>\n",
       "      <td>Good case, Excellent value.</td>\n",
       "      <td>1</td>\n",
       "      <td>amazon</td>\n",
       "    </tr>\n",
       "    <tr>\n",
       "      <th>2</th>\n",
       "      <td>Great for the jawbone.</td>\n",
       "      <td>1</td>\n",
       "      <td>amazon</td>\n",
       "    </tr>\n",
       "    <tr>\n",
       "      <th>3</th>\n",
       "      <td>Tied to charger for conversations lasting more...</td>\n",
       "      <td>0</td>\n",
       "      <td>amazon</td>\n",
       "    </tr>\n",
       "    <tr>\n",
       "      <th>4</th>\n",
       "      <td>The mic is great.</td>\n",
       "      <td>1</td>\n",
       "      <td>amazon</td>\n",
       "    </tr>\n",
       "    <tr>\n",
       "      <th>...</th>\n",
       "      <td>...</td>\n",
       "      <td>...</td>\n",
       "      <td>...</td>\n",
       "    </tr>\n",
       "    <tr>\n",
       "      <th>2743</th>\n",
       "      <td>I think food should have flavor and texture an...</td>\n",
       "      <td>0</td>\n",
       "      <td>yelp</td>\n",
       "    </tr>\n",
       "    <tr>\n",
       "      <th>2744</th>\n",
       "      <td>Appetite instantly gone.</td>\n",
       "      <td>0</td>\n",
       "      <td>yelp</td>\n",
       "    </tr>\n",
       "    <tr>\n",
       "      <th>2745</th>\n",
       "      <td>Overall I was not impressed and would not go b...</td>\n",
       "      <td>0</td>\n",
       "      <td>yelp</td>\n",
       "    </tr>\n",
       "    <tr>\n",
       "      <th>2746</th>\n",
       "      <td>The whole experience was underwhelming, and I ...</td>\n",
       "      <td>0</td>\n",
       "      <td>yelp</td>\n",
       "    </tr>\n",
       "    <tr>\n",
       "      <th>2747</th>\n",
       "      <td>Then, as if I hadn't wasted enough of my life ...</td>\n",
       "      <td>0</td>\n",
       "      <td>yelp</td>\n",
       "    </tr>\n",
       "  </tbody>\n",
       "</table>\n",
       "<p>2748 rows × 3 columns</p>\n",
       "</div>"
      ],
      "text/plain": [
       "                                               sentence  target  source\n",
       "0     So there is no way for me to plug it in here i...       0  amazon\n",
       "1                           Good case, Excellent value.       1  amazon\n",
       "2                                Great for the jawbone.       1  amazon\n",
       "3     Tied to charger for conversations lasting more...       0  amazon\n",
       "4                                     The mic is great.       1  amazon\n",
       "...                                                 ...     ...     ...\n",
       "2743  I think food should have flavor and texture an...       0    yelp\n",
       "2744                           Appetite instantly gone.       0    yelp\n",
       "2745  Overall I was not impressed and would not go b...       0    yelp\n",
       "2746  The whole experience was underwhelming, and I ...       0    yelp\n",
       "2747  Then, as if I hadn't wasted enough of my life ...       0    yelp\n",
       "\n",
       "[2748 rows x 3 columns]"
      ]
     },
     "execution_count": 3,
     "metadata": {},
     "output_type": "execute_result"
    }
   ],
   "source": [
    "df"
   ]
  },
  {
   "cell_type": "markdown",
   "id": "d1ea990a-81f9-4856-9489-79f2e32db434",
   "metadata": {},
   "source": [
    "## Split dataset"
   ]
  },
  {
   "cell_type": "code",
   "execution_count": 4,
   "id": "656542ce-5931-49de-8e49-f975babe63fb",
   "metadata": {},
   "outputs": [],
   "source": [
    "from sklearn.model_selection import train_test_split"
   ]
  },
  {
   "cell_type": "code",
   "execution_count": 5,
   "id": "92ad2a7a-e6ec-4422-b35f-ae677afd9f09",
   "metadata": {},
   "outputs": [],
   "source": [
    "X_train, X_test, y_train, y_test = train_test_split(df[\"sentence\"], df[\"target\"], test_size=0.2, random_state=123)"
   ]
  },
  {
   "cell_type": "code",
   "execution_count": 6,
   "id": "fdfb758e-4c94-4ea9-99fa-366fa01efe1f",
   "metadata": {},
   "outputs": [
    {
     "data": {
      "text/plain": [
       "((2198,), (2198,))"
      ]
     },
     "execution_count": 6,
     "metadata": {},
     "output_type": "execute_result"
    }
   ],
   "source": [
    "X_train.shape, y_train.shape"
   ]
  },
  {
   "cell_type": "code",
   "execution_count": 7,
   "id": "e1bb92d8-8acf-49c1-b802-c6304ce14c13",
   "metadata": {},
   "outputs": [
    {
     "data": {
      "text/plain": [
       "((550,), (550,))"
      ]
     },
     "execution_count": 7,
     "metadata": {},
     "output_type": "execute_result"
    }
   ],
   "source": [
    "X_test.shape, y_test.shape"
   ]
  },
  {
   "cell_type": "markdown",
   "id": "e0b73b74-72d2-48e7-82b2-1e07bfb07b1e",
   "metadata": {},
   "source": [
    "# Preprocessing"
   ]
  },
  {
   "cell_type": "code",
   "execution_count": 8,
   "id": "b851f8dc-5f3e-46f7-99c6-32bd4c55737a",
   "metadata": {},
   "outputs": [
    {
     "name": "stderr",
     "output_type": "stream",
     "text": [
      "2024-02-02 22:39:50.787848: I tensorflow/tsl/cuda/cudart_stub.cc:28] Could not find cuda drivers on your machine, GPU will not be used.\n",
      "2024-02-02 22:39:50.817325: E tensorflow/compiler/xla/stream_executor/cuda/cuda_dnn.cc:9342] Unable to register cuDNN factory: Attempting to register factory for plugin cuDNN when one has already been registered\n",
      "2024-02-02 22:39:50.817347: E tensorflow/compiler/xla/stream_executor/cuda/cuda_fft.cc:609] Unable to register cuFFT factory: Attempting to register factory for plugin cuFFT when one has already been registered\n",
      "2024-02-02 22:39:50.817366: E tensorflow/compiler/xla/stream_executor/cuda/cuda_blas.cc:1518] Unable to register cuBLAS factory: Attempting to register factory for plugin cuBLAS when one has already been registered\n",
      "2024-02-02 22:39:50.822464: I tensorflow/tsl/cuda/cudart_stub.cc:28] Could not find cuda drivers on your machine, GPU will not be used.\n",
      "2024-02-02 22:39:50.822866: I tensorflow/core/platform/cpu_feature_guard.cc:182] This TensorFlow binary is optimized to use available CPU instructions in performance-critical operations.\n",
      "To enable the following instructions: AVX2 FMA, in other operations, rebuild TensorFlow with the appropriate compiler flags.\n",
      "2024-02-02 22:39:51.586433: W tensorflow/compiler/tf2tensorrt/utils/py_utils.cc:38] TF-TRT Warning: Could not find TensorRT\n"
     ]
    }
   ],
   "source": [
    "from keras.preprocessing.text import Tokenizer\n",
    "from keras.preprocessing.sequence import pad_sequences"
   ]
  },
  {
   "cell_type": "code",
   "execution_count": 9,
   "id": "d6ff0668-f658-4803-bbf4-4fce2792e288",
   "metadata": {},
   "outputs": [],
   "source": [
    "NUM_WORDS = 5000\n",
    "MAX_LEN = 100\n",
    "\n",
    "tokenizer = Tokenizer(num_words=NUM_WORDS)\n",
    "tokenizer.fit_on_texts(X_train)  # Important be only the train data!!!"
   ]
  },
  {
   "cell_type": "code",
   "execution_count": 10,
   "id": "633f12f3-bbba-4230-8bda-5d2336c268ca",
   "metadata": {},
   "outputs": [],
   "source": [
    "import pickle\n",
    "\n",
    "with open(\"tokenizer.pkl\", \"wb\") as f:\n",
    "    pickle.dump(tokenizer, f)"
   ]
  },
  {
   "cell_type": "code",
   "execution_count": 11,
   "id": "472332c7-5269-49f1-b5b2-5bb35757f76a",
   "metadata": {},
   "outputs": [],
   "source": [
    "X_train_encoded = tokenizer.texts_to_sequences(X_train)\n",
    "X_test_encoded = tokenizer.texts_to_sequences(X_test)"
   ]
  },
  {
   "cell_type": "code",
   "execution_count": 12,
   "id": "d530a358-8b96-4ee3-a577-5cd909588533",
   "metadata": {},
   "outputs": [
    {
     "data": {
      "text/plain": [
       "[[1, 1213, 5, 20]]"
      ]
     },
     "execution_count": 12,
     "metadata": {},
     "output_type": "execute_result"
    }
   ],
   "source": [
    "tokenizer.texts_to_sequences([\"The mic is great.\"])"
   ]
  },
  {
   "cell_type": "code",
   "execution_count": 13,
   "id": "9cd66f53-52af-43b3-b25f-782eb44924e5",
   "metadata": {},
   "outputs": [],
   "source": [
    "X_train_encoded = pad_sequences(X_train_encoded, maxlen=MAX_LEN, padding=\"post\")\n",
    "X_test_encoded = pad_sequences(X_test_encoded, maxlen=MAX_LEN, padding=\"post\")"
   ]
  },
  {
   "cell_type": "code",
   "execution_count": 14,
   "id": "a1e19da4-3614-4c22-af44-624ec914eaa2",
   "metadata": {},
   "outputs": [
    {
     "data": {
      "text/plain": [
       "((2198, 100), (550, 100))"
      ]
     },
     "execution_count": 14,
     "metadata": {},
     "output_type": "execute_result"
    }
   ],
   "source": [
    "X_train_encoded.shape, X_test_encoded.shape"
   ]
  },
  {
   "cell_type": "markdown",
   "id": "c5313a82-9f2e-4ebe-8884-6b138ec7ae32",
   "metadata": {},
   "source": [
    "# MLFlow"
   ]
  },
  {
   "cell_type": "code",
   "execution_count": 15,
   "id": "3b5459e9-8113-49f7-bc11-b6f13b701cea",
   "metadata": {},
   "outputs": [],
   "source": [
    "import mlflow\n",
    "from mlflow.data.pandas_dataset import PandasDataset\n",
    "\n",
    "mlflow.set_tracking_uri(uri=\"http://127.0.0.1:8080\")"
   ]
  },
  {
   "cell_type": "code",
   "execution_count": 16,
   "id": "6c986b78-d62c-4f9f-84f4-e6555938b21b",
   "metadata": {},
   "outputs": [
    {
     "name": "stderr",
     "output_type": "stream",
     "text": [
      "/home/brenoav/GitHub/NLP-Sentiment-Analysis/.venv/lib/python3.10/site-packages/mlflow/data/dataset_source_registry.py:150: UserWarning: The specified dataset source can be interpreted in multiple ways: LocalArtifactDatasetSource, LocalArtifactDatasetSource. MLflow will assume that this is a LocalArtifactDatasetSource source.\n",
      "  return _dataset_source_registry.resolve(\n",
      "/home/brenoav/GitHub/NLP-Sentiment-Analysis/.venv/lib/python3.10/site-packages/mlflow/data/digest_utils.py:29: FutureWarning: DataFrame.applymap has been deprecated. Use DataFrame.map instead.\n",
      "  string_columns = trimmed_df.columns[(df.applymap(type) == str).all(0)]\n"
     ]
    }
   ],
   "source": [
    "dataset: PandasDataset = mlflow.data.from_pandas(df, source=\"data.csv\")"
   ]
  },
  {
   "cell_type": "markdown",
   "id": "81bae190-7f8d-4d26-8b23-bcb5262e65a5",
   "metadata": {},
   "source": [
    "# Experiment 3 (Keras)"
   ]
  },
  {
   "cell_type": "code",
   "execution_count": 17,
   "id": "846cb547-6ff6-421d-95e8-748278436412",
   "metadata": {},
   "outputs": [],
   "source": [
    "import tensorflow as tf\n",
    "import keras_tuner as kt\n",
    "from keras.models import Sequential\n",
    "from keras.layers import Dense, Embedding, Flatten\n",
    "from keras.optimizers import Adam\n",
    "from sklearn.metrics import accuracy_score, precision_score, recall_score, f1_score"
   ]
  },
  {
   "cell_type": "code",
   "execution_count": 18,
   "id": "084ebc04-64bf-427c-99d8-3d3c123989d2",
   "metadata": {},
   "outputs": [
    {
     "data": {
      "text/plain": [
       "'367826324696094615'"
      ]
     },
     "execution_count": 18,
     "metadata": {},
     "output_type": "execute_result"
    }
   ],
   "source": [
    "experiment_name = \"sentiment_analysis_tf_dense\"\n",
    "\n",
    "experiment_tags = {\n",
    "    \"nlp.framework\": \"TensorFlow\",\n",
    "    \"nlp.encoding\": \"Tokenizer\",\n",
    "    \"nlp.model\": \"Dense Network\",\n",
    "    \"nlp.task\": \"Sentiment Analysis\"\n",
    "}\n",
    "\n",
    "mlflow.create_experiment(name=experiment_name,\n",
    "                         artifact_location=\"mlartifacts\",\n",
    "                         tags=experiment_tags)"
   ]
  },
  {
   "cell_type": "code",
   "execution_count": 19,
   "id": "2f60b71e-1e1d-4158-8089-f1c12af916d8",
   "metadata": {},
   "outputs": [],
   "source": [
    "class DenseHyperModel(kt.HyperModel):\n",
    "    def build(self, hp):\n",
    "        kernel_regularizer = hp.Choice(\"kernel_regularizer\", [\"None\", \"l2\"])\n",
    "\n",
    "        if kernel_regularizer.lower() == \"none\":\n",
    "            kernel_regularizer = None\n",
    "\n",
    "        model = Sequential(name=\"DenseNetwork\")\n",
    "        model.add(Embedding(input_dim=len(tokenizer.index_word) + 1, \n",
    "                            output_dim=hp.Choice(\"ouput_dim\", [50, 75, 100]), \n",
    "                            input_length=MAX_LEN))\n",
    "        model.add(Flatten())\n",
    "        for i in range(hp.Int(\"num_layers\", 1, 2)):\n",
    "            model.add(Dense(units=hp.Choice(\"units\", [16, 32, 64]), \n",
    "                            activation=hp.Choice(\"activation\", [\"relu\", \"tanh\"]), \n",
    "                            kernel_regularizer=kernel_regularizer))\n",
    "        model.add(Dense(units=1, activation=\"sigmoid\"))\n",
    "\n",
    "        model.compile(loss=\"binary_crossentropy\", \n",
    "                      optimizer=Adam(learning_rate=hp.Choice(\"lr\", [1e-2, 1e-3, 1e-4])),\n",
    "                      metrics=[\"accuracy\"])\n",
    "\n",
    "        return model\n",
    "\n",
    "    def fit(self, hp, model, *args, **kwargs):\n",
    "        return model.fit(\n",
    "            *args,\n",
    "            **kwargs,\n",
    "        )"
   ]
  },
  {
   "cell_type": "code",
   "execution_count": 20,
   "id": "d2c4771f-beb3-48a4-961a-55f85bb32baf",
   "metadata": {},
   "outputs": [
    {
     "name": "stdout",
     "output_type": "stream",
     "text": [
      "Trial 30 Complete [00h 00m 08s]\n",
      "val_accuracy: 0.8006060719490051\n",
      "\n",
      "Best val_accuracy So Far: 0.8187878727912903\n",
      "Total elapsed time: 00h 11m 09s\n",
      "Epoch 1/500\n",
      "69/69 [==============================] - 1s 4ms/step - loss: 0.9402 - accuracy: 0.4973 - val_loss: 0.8743 - val_accuracy: 0.5055\n",
      "Epoch 2/500\n",
      "69/69 [==============================] - 0s 3ms/step - loss: 0.8306 - accuracy: 0.5023 - val_loss: 0.7928 - val_accuracy: 0.4927\n",
      "Epoch 3/500\n",
      "69/69 [==============================] - 0s 3ms/step - loss: 0.7682 - accuracy: 0.5136 - val_loss: 0.7482 - val_accuracy: 0.4927\n",
      "Epoch 4/500\n",
      "69/69 [==============================] - 0s 3ms/step - loss: 0.7337 - accuracy: 0.5473 - val_loss: 0.7236 - val_accuracy: 0.5527\n",
      "Epoch 5/500\n",
      "69/69 [==============================] - 0s 3ms/step - loss: 0.7140 - accuracy: 0.5746 - val_loss: 0.7116 - val_accuracy: 0.5055\n",
      "Epoch 6/500\n",
      "69/69 [==============================] - 0s 3ms/step - loss: 0.7029 - accuracy: 0.6192 - val_loss: 0.7025 - val_accuracy: 0.5982\n",
      "Epoch 7/500\n",
      "69/69 [==============================] - 0s 3ms/step - loss: 0.6913 - accuracy: 0.7152 - val_loss: 0.6966 - val_accuracy: 0.5782\n",
      "Epoch 8/500\n",
      "69/69 [==============================] - 0s 3ms/step - loss: 0.6798 - accuracy: 0.8267 - val_loss: 0.6934 - val_accuracy: 0.5073\n",
      "Epoch 9/500\n",
      "69/69 [==============================] - 0s 3ms/step - loss: 0.6666 - accuracy: 0.7748 - val_loss: 0.6865 - val_accuracy: 0.5382\n",
      "Epoch 10/500\n",
      "69/69 [==============================] - 0s 3ms/step - loss: 0.6491 - accuracy: 0.8248 - val_loss: 0.6738 - val_accuracy: 0.7327\n",
      "Epoch 11/500\n",
      "69/69 [==============================] - 0s 3ms/step - loss: 0.6275 - accuracy: 0.8731 - val_loss: 0.6645 - val_accuracy: 0.7364\n",
      "Epoch 12/500\n",
      "69/69 [==============================] - 0s 3ms/step - loss: 0.6041 - accuracy: 0.8758 - val_loss: 0.6573 - val_accuracy: 0.7127\n",
      "Epoch 13/500\n",
      "69/69 [==============================] - 0s 3ms/step - loss: 0.5777 - accuracy: 0.9017 - val_loss: 0.6450 - val_accuracy: 0.7618\n",
      "Epoch 14/500\n",
      "69/69 [==============================] - 0s 3ms/step - loss: 0.5523 - accuracy: 0.9122 - val_loss: 0.6370 - val_accuracy: 0.7436\n",
      "Epoch 15/500\n",
      "69/69 [==============================] - 0s 3ms/step - loss: 0.5265 - accuracy: 0.9158 - val_loss: 0.6281 - val_accuracy: 0.7709\n",
      "Epoch 16/500\n",
      "69/69 [==============================] - 0s 3ms/step - loss: 0.5014 - accuracy: 0.9304 - val_loss: 0.6217 - val_accuracy: 0.7709\n",
      "Epoch 17/500\n",
      "69/69 [==============================] - 0s 3ms/step - loss: 0.4799 - accuracy: 0.9322 - val_loss: 0.6150 - val_accuracy: 0.7745\n",
      "Epoch 18/500\n",
      "69/69 [==============================] - 0s 3ms/step - loss: 0.4580 - accuracy: 0.9327 - val_loss: 0.6161 - val_accuracy: 0.7400\n",
      "Epoch 19/500\n",
      "69/69 [==============================] - 0s 3ms/step - loss: 0.4336 - accuracy: 0.9427 - val_loss: 0.6106 - val_accuracy: 0.7473\n",
      "Epoch 20/500\n",
      "69/69 [==============================] - 0s 3ms/step - loss: 0.4151 - accuracy: 0.9591 - val_loss: 0.6131 - val_accuracy: 0.7473\n",
      "Epoch 21/500\n",
      "69/69 [==============================] - 0s 3ms/step - loss: 0.4014 - accuracy: 0.9572 - val_loss: 0.6008 - val_accuracy: 0.7727\n",
      "Epoch 22/500\n",
      "69/69 [==============================] - 0s 3ms/step - loss: 0.3846 - accuracy: 0.9636 - val_loss: 0.5976 - val_accuracy: 0.7745\n",
      "Epoch 23/500\n",
      "69/69 [==============================] - 0s 3ms/step - loss: 0.3693 - accuracy: 0.9677 - val_loss: 0.6036 - val_accuracy: 0.7564\n",
      "Epoch 24/500\n",
      "69/69 [==============================] - 0s 3ms/step - loss: 0.3577 - accuracy: 0.9695 - val_loss: 0.6008 - val_accuracy: 0.7618\n",
      "Epoch 25/500\n",
      "69/69 [==============================] - 0s 3ms/step - loss: 0.3477 - accuracy: 0.9713 - val_loss: 0.5909 - val_accuracy: 0.7745\n",
      "Epoch 26/500\n",
      "69/69 [==============================] - 0s 3ms/step - loss: 0.3358 - accuracy: 0.9786 - val_loss: 0.5851 - val_accuracy: 0.7964\n",
      "Epoch 27/500\n",
      "69/69 [==============================] - 0s 3ms/step - loss: 0.3260 - accuracy: 0.9795 - val_loss: 0.5817 - val_accuracy: 0.7891\n",
      "Epoch 28/500\n",
      "69/69 [==============================] - 0s 3ms/step - loss: 0.3202 - accuracy: 0.9791 - val_loss: 0.5853 - val_accuracy: 0.7745\n",
      "Epoch 29/500\n",
      "69/69 [==============================] - 0s 3ms/step - loss: 0.3085 - accuracy: 0.9818 - val_loss: 0.5819 - val_accuracy: 0.7800\n",
      "Epoch 30/500\n",
      "69/69 [==============================] - 0s 3ms/step - loss: 0.3016 - accuracy: 0.9836 - val_loss: 0.5808 - val_accuracy: 0.7836\n",
      "Epoch 31/500\n",
      "69/69 [==============================] - 0s 3ms/step - loss: 0.2937 - accuracy: 0.9832 - val_loss: 0.5805 - val_accuracy: 0.7764\n",
      "Epoch 32/500\n",
      "69/69 [==============================] - 0s 3ms/step - loss: 0.2872 - accuracy: 0.9845 - val_loss: 0.5718 - val_accuracy: 0.8000\n",
      "Epoch 33/500\n",
      "69/69 [==============================] - 0s 3ms/step - loss: 0.2788 - accuracy: 0.9859 - val_loss: 0.5769 - val_accuracy: 0.7764\n",
      "Epoch 34/500\n",
      "69/69 [==============================] - 0s 3ms/step - loss: 0.2741 - accuracy: 0.9845 - val_loss: 0.5674 - val_accuracy: 0.8000\n",
      "Epoch 35/500\n",
      "69/69 [==============================] - 0s 3ms/step - loss: 0.2667 - accuracy: 0.9864 - val_loss: 0.5666 - val_accuracy: 0.7927\n",
      "Epoch 36/500\n",
      "69/69 [==============================] - 0s 3ms/step - loss: 0.2602 - accuracy: 0.9882 - val_loss: 0.5651 - val_accuracy: 0.7945\n",
      "Epoch 37/500\n",
      "69/69 [==============================] - 0s 3ms/step - loss: 0.2566 - accuracy: 0.9873 - val_loss: 0.5740 - val_accuracy: 0.7655\n",
      "Epoch 38/500\n",
      "69/69 [==============================] - 0s 3ms/step - loss: 0.2501 - accuracy: 0.9877 - val_loss: 0.5659 - val_accuracy: 0.7964\n",
      "Epoch 39/500\n",
      "69/69 [==============================] - 0s 3ms/step - loss: 0.2445 - accuracy: 0.9873 - val_loss: 0.5750 - val_accuracy: 0.7636\n",
      "Epoch 40/500\n",
      "69/69 [==============================] - 0s 3ms/step - loss: 0.2393 - accuracy: 0.9882 - val_loss: 0.5665 - val_accuracy: 0.7800\n",
      "Epoch 41/500\n",
      "69/69 [==============================] - 0s 3ms/step - loss: 0.2355 - accuracy: 0.9900 - val_loss: 0.5566 - val_accuracy: 0.8091\n",
      "Epoch 42/500\n",
      "69/69 [==============================] - 0s 3ms/step - loss: 0.2296 - accuracy: 0.9895 - val_loss: 0.5555 - val_accuracy: 0.8091\n",
      "Epoch 43/500\n",
      "69/69 [==============================] - 0s 3ms/step - loss: 0.2266 - accuracy: 0.9895 - val_loss: 0.5534 - val_accuracy: 0.8109\n",
      "Epoch 44/500\n",
      "69/69 [==============================] - 0s 3ms/step - loss: 0.2210 - accuracy: 0.9914 - val_loss: 0.5561 - val_accuracy: 0.7945\n",
      "Epoch 45/500\n",
      "69/69 [==============================] - 0s 3ms/step - loss: 0.2169 - accuracy: 0.9904 - val_loss: 0.5512 - val_accuracy: 0.8127\n",
      "Epoch 46/500\n",
      "69/69 [==============================] - 0s 3ms/step - loss: 0.2124 - accuracy: 0.9918 - val_loss: 0.5512 - val_accuracy: 0.8018\n",
      "Epoch 47/500\n",
      "69/69 [==============================] - 0s 3ms/step - loss: 0.2090 - accuracy: 0.9900 - val_loss: 0.5502 - val_accuracy: 0.8018\n",
      "Epoch 48/500\n",
      "69/69 [==============================] - 0s 3ms/step - loss: 0.2053 - accuracy: 0.9914 - val_loss: 0.5488 - val_accuracy: 0.8073\n",
      "Epoch 49/500\n",
      "69/69 [==============================] - 0s 3ms/step - loss: 0.2017 - accuracy: 0.9918 - val_loss: 0.5459 - val_accuracy: 0.8109\n",
      "Epoch 50/500\n",
      "69/69 [==============================] - 0s 3ms/step - loss: 0.1980 - accuracy: 0.9909 - val_loss: 0.5462 - val_accuracy: 0.8091\n",
      "Epoch 51/500\n",
      "69/69 [==============================] - 0s 3ms/step - loss: 0.1948 - accuracy: 0.9932 - val_loss: 0.5444 - val_accuracy: 0.8091\n",
      "Epoch 52/500\n",
      "69/69 [==============================] - 0s 3ms/step - loss: 0.1903 - accuracy: 0.9932 - val_loss: 0.5425 - val_accuracy: 0.8036\n",
      "Epoch 53/500\n",
      "69/69 [==============================] - 0s 3ms/step - loss: 0.1874 - accuracy: 0.9932 - val_loss: 0.5522 - val_accuracy: 0.7782\n",
      "Epoch 54/500\n",
      "69/69 [==============================] - 0s 3ms/step - loss: 0.1837 - accuracy: 0.9945 - val_loss: 0.5403 - val_accuracy: 0.8091\n",
      "Epoch 55/500\n",
      "69/69 [==============================] - 0s 3ms/step - loss: 0.1809 - accuracy: 0.9932 - val_loss: 0.5402 - val_accuracy: 0.8055\n",
      "Epoch 56/500\n",
      "69/69 [==============================] - 0s 3ms/step - loss: 0.1776 - accuracy: 0.9932 - val_loss: 0.5404 - val_accuracy: 0.8055\n",
      "Epoch 57/500\n",
      "69/69 [==============================] - 0s 3ms/step - loss: 0.1743 - accuracy: 0.9955 - val_loss: 0.5409 - val_accuracy: 0.8073\n",
      "Epoch 58/500\n",
      "69/69 [==============================] - 0s 3ms/step - loss: 0.1722 - accuracy: 0.9941 - val_loss: 0.5631 - val_accuracy: 0.7600\n",
      "Epoch 59/500\n",
      "69/69 [==============================] - 0s 3ms/step - loss: 0.1693 - accuracy: 0.9941 - val_loss: 0.5390 - val_accuracy: 0.8036\n",
      "Epoch 60/500\n",
      "69/69 [==============================] - 0s 3ms/step - loss: 0.1657 - accuracy: 0.9950 - val_loss: 0.5346 - val_accuracy: 0.8091\n",
      "Epoch 61/500\n",
      "69/69 [==============================] - 0s 3ms/step - loss: 0.1625 - accuracy: 0.9950 - val_loss: 0.5379 - val_accuracy: 0.8036\n",
      "Epoch 62/500\n",
      "69/69 [==============================] - 0s 3ms/step - loss: 0.1603 - accuracy: 0.9955 - val_loss: 0.5378 - val_accuracy: 0.8055\n",
      "Epoch 63/500\n",
      "69/69 [==============================] - 0s 3ms/step - loss: 0.1572 - accuracy: 0.9950 - val_loss: 0.5373 - val_accuracy: 0.8036\n",
      "Epoch 64/500\n",
      "69/69 [==============================] - 0s 3ms/step - loss: 0.1552 - accuracy: 0.9964 - val_loss: 0.5312 - val_accuracy: 0.8036\n",
      "Epoch 65/500\n",
      "69/69 [==============================] - 0s 3ms/step - loss: 0.1524 - accuracy: 0.9959 - val_loss: 0.5443 - val_accuracy: 0.7764\n",
      "Epoch 66/500\n",
      "69/69 [==============================] - 0s 3ms/step - loss: 0.1507 - accuracy: 0.9955 - val_loss: 0.5511 - val_accuracy: 0.7673\n",
      "Epoch 67/500\n",
      "69/69 [==============================] - 0s 3ms/step - loss: 0.1491 - accuracy: 0.9955 - val_loss: 0.5317 - val_accuracy: 0.8073\n",
      "Epoch 68/500\n",
      "69/69 [==============================] - 0s 3ms/step - loss: 0.1455 - accuracy: 0.9973 - val_loss: 0.5304 - val_accuracy: 0.8073\n",
      "Epoch 69/500\n",
      "69/69 [==============================] - 0s 3ms/step - loss: 0.1439 - accuracy: 0.9964 - val_loss: 0.5281 - val_accuracy: 0.8000\n",
      "Epoch 70/500\n",
      "69/69 [==============================] - 0s 3ms/step - loss: 0.1411 - accuracy: 0.9959 - val_loss: 0.5384 - val_accuracy: 0.7909\n",
      "Epoch 71/500\n",
      "69/69 [==============================] - 0s 3ms/step - loss: 0.1389 - accuracy: 0.9964 - val_loss: 0.5262 - val_accuracy: 0.8018\n",
      "Epoch 72/500\n",
      "69/69 [==============================] - 0s 3ms/step - loss: 0.1368 - accuracy: 0.9968 - val_loss: 0.5266 - val_accuracy: 0.8109\n",
      "Epoch 73/500\n",
      "69/69 [==============================] - 0s 3ms/step - loss: 0.1354 - accuracy: 0.9964 - val_loss: 0.5392 - val_accuracy: 0.7873\n",
      "Epoch 74/500\n",
      "69/69 [==============================] - 0s 3ms/step - loss: 0.1342 - accuracy: 0.9968 - val_loss: 0.5294 - val_accuracy: 0.8018\n",
      "Epoch 75/500\n",
      "69/69 [==============================] - 0s 3ms/step - loss: 0.1313 - accuracy: 0.9964 - val_loss: 0.5269 - val_accuracy: 0.8073\n",
      "Epoch 76/500\n",
      "69/69 [==============================] - 0s 3ms/step - loss: 0.1284 - accuracy: 0.9968 - val_loss: 0.5248 - val_accuracy: 0.8073\n",
      "Epoch 77/500\n",
      "69/69 [==============================] - 0s 3ms/step - loss: 0.1271 - accuracy: 0.9968 - val_loss: 0.5249 - val_accuracy: 0.8055\n",
      "Epoch 78/500\n",
      "69/69 [==============================] - 0s 3ms/step - loss: 0.1248 - accuracy: 0.9968 - val_loss: 0.5240 - val_accuracy: 0.8073\n",
      "Epoch 79/500\n",
      "69/69 [==============================] - 0s 3ms/step - loss: 0.1240 - accuracy: 0.9968 - val_loss: 0.5269 - val_accuracy: 0.8055\n",
      "Epoch 80/500\n",
      "69/69 [==============================] - 0s 3ms/step - loss: 0.1215 - accuracy: 0.9968 - val_loss: 0.5270 - val_accuracy: 0.7982\n",
      "Epoch 81/500\n",
      "69/69 [==============================] - 0s 3ms/step - loss: 0.1200 - accuracy: 0.9973 - val_loss: 0.5330 - val_accuracy: 0.7891\n",
      "Epoch 82/500\n",
      "69/69 [==============================] - 0s 3ms/step - loss: 0.1189 - accuracy: 0.9973 - val_loss: 0.5225 - val_accuracy: 0.8073\n",
      "Epoch 83/500\n",
      "69/69 [==============================] - 0s 3ms/step - loss: 0.1174 - accuracy: 0.9968 - val_loss: 0.5253 - val_accuracy: 0.8036\n",
      "Epoch 84/500\n",
      "69/69 [==============================] - 0s 3ms/step - loss: 0.1151 - accuracy: 0.9968 - val_loss: 0.5234 - val_accuracy: 0.8127\n",
      "Epoch 85/500\n",
      "69/69 [==============================] - 0s 3ms/step - loss: 0.1140 - accuracy: 0.9973 - val_loss: 0.5248 - val_accuracy: 0.8036\n",
      "Epoch 86/500\n",
      "69/69 [==============================] - 0s 3ms/step - loss: 0.1113 - accuracy: 0.9968 - val_loss: 0.5293 - val_accuracy: 0.7909\n",
      "Epoch 87/500\n",
      "69/69 [==============================] - 0s 3ms/step - loss: 0.1100 - accuracy: 0.9986 - val_loss: 0.5198 - val_accuracy: 0.8018\n",
      "Epoch 88/500\n",
      "69/69 [==============================] - 0s 3ms/step - loss: 0.1084 - accuracy: 0.9977 - val_loss: 0.5244 - val_accuracy: 0.8018\n",
      "Epoch 89/500\n",
      "69/69 [==============================] - 0s 3ms/step - loss: 0.1076 - accuracy: 0.9977 - val_loss: 0.5216 - val_accuracy: 0.8055\n",
      "Epoch 90/500\n",
      "69/69 [==============================] - 0s 3ms/step - loss: 0.1053 - accuracy: 0.9977 - val_loss: 0.5193 - val_accuracy: 0.8055\n",
      "Epoch 91/500\n",
      "69/69 [==============================] - 0s 3ms/step - loss: 0.1043 - accuracy: 0.9982 - val_loss: 0.5277 - val_accuracy: 0.7927\n",
      "Epoch 92/500\n",
      "69/69 [==============================] - 0s 3ms/step - loss: 0.1024 - accuracy: 0.9973 - val_loss: 0.5226 - val_accuracy: 0.8036\n",
      "Epoch 93/500\n",
      "69/69 [==============================] - 0s 3ms/step - loss: 0.1011 - accuracy: 0.9977 - val_loss: 0.5192 - val_accuracy: 0.8091\n",
      "Epoch 94/500\n",
      "69/69 [==============================] - 0s 3ms/step - loss: 0.1001 - accuracy: 0.9977 - val_loss: 0.5252 - val_accuracy: 0.7964\n",
      "Epoch 95/500\n",
      "69/69 [==============================] - 0s 3ms/step - loss: 0.0984 - accuracy: 0.9973 - val_loss: 0.5265 - val_accuracy: 0.7945\n",
      "Epoch 96/500\n",
      "69/69 [==============================] - 0s 3ms/step - loss: 0.0981 - accuracy: 0.9986 - val_loss: 0.5213 - val_accuracy: 0.8036\n",
      "Epoch 97/500\n",
      "69/69 [==============================] - 0s 3ms/step - loss: 0.0961 - accuracy: 0.9982 - val_loss: 0.5214 - val_accuracy: 0.7982\n",
      "Epoch 98/500\n",
      "69/69 [==============================] - 0s 3ms/step - loss: 0.0949 - accuracy: 0.9991 - val_loss: 0.5431 - val_accuracy: 0.7709\n",
      "18/18 [==============================] - 0s 807us/step\n",
      "69/69 [==============================] - 0s 707us/step\n"
     ]
    },
    {
     "name": "stderr",
     "output_type": "stream",
     "text": [
      "/home/brenoav/GitHub/NLP-Sentiment-Analysis/.venv/lib/python3.10/site-packages/mlflow/types/utils.py:393: UserWarning: Hint: Inferred schema contains integer column(s). Integer columns in Python cannot represent missing values. If your input data contains missing values at inference time, it will be encoded as floats and will cause a schema enforcement error. The best way to avoid this problem is to infer the model schema based on a realistic data sample (training dataset) that includes missing values. Alternatively, you can declare integer columns as doubles (float64) whenever these columns may have missing values. See `Handling Integers With Missing Values <https://www.mlflow.org/docs/latest/models.html#handling-integers-with-missing-values>`_ for more details.\n",
      "  warnings.warn(\n"
     ]
    },
    {
     "name": "stdout",
     "output_type": "stream",
     "text": [
      "INFO:tensorflow:Assets written to: /tmp/tmpinmaken4/model/data/model/assets\n"
     ]
    },
    {
     "name": "stderr",
     "output_type": "stream",
     "text": [
      "INFO:tensorflow:Assets written to: /tmp/tmpinmaken4/model/data/model/assets\n",
      "/home/brenoav/GitHub/NLP-Sentiment-Analysis/.venv/lib/python3.10/site-packages/_distutils_hack/__init__.py:33: UserWarning: Setuptools is replacing distutils.\n",
      "  warnings.warn(\"Setuptools is replacing distutils.\")\n"
     ]
    }
   ],
   "source": [
    "mlflow.set_experiment(experiment_name=experiment_name)  # It could be use the ID too\n",
    "\n",
    "tuner = kt.RandomSearch(\n",
    "    DenseHyperModel(),\n",
    "    objective='val_accuracy',\n",
    "    max_trials=30,\n",
    "    seed=123,\n",
    "    overwrite=True,\n",
    "    directory=\"keras-tuner\",\n",
    "    project_name=\"sentiment_analysis\"\n",
    ")\n",
    "\n",
    "stop_early = tf.keras.callbacks.EarlyStopping(monitor='val_loss', patience=5)\n",
    "tuner.search(x=X_train_encoded, y=y_train, \n",
    "             epochs=500,\n",
    "             validation_data=(X_test_encoded, y_test),\n",
    "             callbacks=[stop_early])\n",
    "\n",
    "best_hps = tuner.get_best_hyperparameters(num_trials=1)[0]\n",
    "model = tuner.hypermodel.build(best_hps)\n",
    "history = model.fit(X_train_encoded, \n",
    "                    y_train, \n",
    "                    validation_data=(X_test_encoded, y_test),\n",
    "                    callbacks=[stop_early],\n",
    "                    epochs=500,\n",
    ")\n",
    "\n",
    "y_pred = tf.math.round(model.predict(X_test_encoded))\n",
    "\n",
    "accuracy = accuracy_score(y_true=y_test, y_pred=y_pred)\n",
    "precision = precision_score(y_true=y_test, y_pred=y_pred)\n",
    "recall = recall_score(y_true=y_test, y_pred=y_pred)\n",
    "f1 = f1_score(y_true=y_test, y_pred=y_pred)\n",
    "\n",
    "metrics = {\n",
    "    \"accuracy\": accuracy,\n",
    "    \"precision\": precision,\n",
    "    \"recall\": recall,\n",
    "    \"f1\": f1\n",
    "}\n",
    "\n",
    "run_name = \"_\".join([f\"{k}_{v}\" for k, v in best_hps.values.items()])\n",
    "\n",
    "with mlflow.start_run(run_name=run_name):\n",
    "    # Log the hyperparameters\n",
    "    mlflow.log_params(best_hps.values)\n",
    "\n",
    "    # Log the metrics\n",
    "    mlflow.log_metrics(metrics)\n",
    "    ## Graph of accuracies and losses\n",
    "    h = history.history\n",
    "    for j, (train_loss, train_acc, test_loss, test_acc) in enumerate(zip(h[\"loss\"], h[\"accuracy\"], h[\"val_loss\"], h[\"val_accuracy\"])):\n",
    "        mlflow.log_metric(key=\"train_loss\", value=train_loss, step=j)\n",
    "        mlflow.log_metric(key=\"train_acc\", value=train_acc, step=j)\n",
    "        mlflow.log_metric(key=\"test_loss\", value=test_loss, step=j)\n",
    "        mlflow.log_metric(key=\"test_acc\", value=test_acc, step=j)\n",
    "\n",
    "    # Log the dataset\n",
    "    mlflow.log_input(dataset, context=\"training\")\n",
    "\n",
    "    # Log the model ! New versions it is mlflow.keras !\n",
    "    mlflow.tensorflow.log_model(model=model,\n",
    "                                artifact_path=\"mlartifacts\",\n",
    "                                input_example=X_train_encoded)\n",
    "\n",
    "    mlflow.log_artifact(\"keras-tuner\", artifact_path=\"mlartifacts\")\n",
    "    \n",
    "    mlflow.log_artifact(\"tokenizer.pkl\", artifact_path=\"mlartifacts\")"
   ]
  },
  {
   "cell_type": "markdown",
   "id": "f6201cc2-9aa8-4446-a7eb-7005b7a22639",
   "metadata": {},
   "source": [
    "This Jupyter Notebook was created by BrenoAV. For any inquiries or feedback, please feel free to create an issue on [GitHub](https://github.com/BrenoAV/NLP-Sentiment-Analysis/issues) 📣."
   ]
  }
 ],
 "metadata": {
  "kernelspec": {
   "display_name": "Python 3 (ipykernel)",
   "language": "python",
   "name": "python3"
  },
  "language_info": {
   "codemirror_mode": {
    "name": "ipython",
    "version": 3
   },
   "file_extension": ".py",
   "mimetype": "text/x-python",
   "name": "python",
   "nbconvert_exporter": "python",
   "pygments_lexer": "ipython3",
   "version": "3.10.13"
  }
 },
 "nbformat": 4,
 "nbformat_minor": 5
}
