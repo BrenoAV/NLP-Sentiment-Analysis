{
 "cells": [
  {
   "cell_type": "markdown",
   "id": "4fb24db8-1a1a-4b7b-9a4c-d1138af91058",
   "metadata": {},
   "source": [
    "# TensorFlow / Keras"
   ]
  },
  {
   "cell_type": "markdown",
   "id": "5116df81-f571-4ed5-93bb-5408ba0dc0e0",
   "metadata": {},
   "source": [
    "- Dense Network using Keras API\n",
    "- [KerasTuner](https://keras.io/keras_tuner/) for HyperParameters searching.\n",
    "\n",
    "&rarr; [Experiment 3 - Keras](#Experiment-3-(Keras))\n",
    "\n",
    "**Author:** BrenoAV\n",
    "\n",
    "**Last Date Modified:** 2/4/2024"
   ]
  },
  {
   "cell_type": "markdown",
   "id": "5f594aaf-12f5-46f2-8714-b17d7d5d4eb0",
   "metadata": {},
   "source": [
    "# Load Dataset"
   ]
  },
  {
   "cell_type": "code",
   "execution_count": 1,
   "id": "f0076038-b259-4e47-b1fa-c0dcee2d900c",
   "metadata": {},
   "outputs": [],
   "source": [
    "import pandas as pd"
   ]
  },
  {
   "cell_type": "code",
   "execution_count": 2,
   "id": "327d7726-4d48-452d-8a99-2fe0bda7e6ab",
   "metadata": {},
   "outputs": [],
   "source": [
    "df = pd.read_csv(\"data.csv\", sep=\"\\t\", encoding=\"utf-8\")"
   ]
  },
  {
   "cell_type": "code",
   "execution_count": 3,
   "id": "5873de6f-6301-4201-8094-59c28428268d",
   "metadata": {},
   "outputs": [
    {
     "data": {
      "text/html": [
       "<div>\n",
       "<style scoped>\n",
       "    .dataframe tbody tr th:only-of-type {\n",
       "        vertical-align: middle;\n",
       "    }\n",
       "\n",
       "    .dataframe tbody tr th {\n",
       "        vertical-align: top;\n",
       "    }\n",
       "\n",
       "    .dataframe thead th {\n",
       "        text-align: right;\n",
       "    }\n",
       "</style>\n",
       "<table border=\"1\" class=\"dataframe\">\n",
       "  <thead>\n",
       "    <tr style=\"text-align: right;\">\n",
       "      <th></th>\n",
       "      <th>sentence</th>\n",
       "      <th>target</th>\n",
       "      <th>source</th>\n",
       "    </tr>\n",
       "  </thead>\n",
       "  <tbody>\n",
       "    <tr>\n",
       "      <th>0</th>\n",
       "      <td>So there is no way for me to plug it in here i...</td>\n",
       "      <td>0</td>\n",
       "      <td>amazon</td>\n",
       "    </tr>\n",
       "    <tr>\n",
       "      <th>1</th>\n",
       "      <td>Good case, Excellent value.</td>\n",
       "      <td>1</td>\n",
       "      <td>amazon</td>\n",
       "    </tr>\n",
       "    <tr>\n",
       "      <th>2</th>\n",
       "      <td>Great for the jawbone.</td>\n",
       "      <td>1</td>\n",
       "      <td>amazon</td>\n",
       "    </tr>\n",
       "    <tr>\n",
       "      <th>3</th>\n",
       "      <td>Tied to charger for conversations lasting more...</td>\n",
       "      <td>0</td>\n",
       "      <td>amazon</td>\n",
       "    </tr>\n",
       "    <tr>\n",
       "      <th>4</th>\n",
       "      <td>The mic is great.</td>\n",
       "      <td>1</td>\n",
       "      <td>amazon</td>\n",
       "    </tr>\n",
       "    <tr>\n",
       "      <th>...</th>\n",
       "      <td>...</td>\n",
       "      <td>...</td>\n",
       "      <td>...</td>\n",
       "    </tr>\n",
       "    <tr>\n",
       "      <th>2743</th>\n",
       "      <td>I think food should have flavor and texture an...</td>\n",
       "      <td>0</td>\n",
       "      <td>yelp</td>\n",
       "    </tr>\n",
       "    <tr>\n",
       "      <th>2744</th>\n",
       "      <td>Appetite instantly gone.</td>\n",
       "      <td>0</td>\n",
       "      <td>yelp</td>\n",
       "    </tr>\n",
       "    <tr>\n",
       "      <th>2745</th>\n",
       "      <td>Overall I was not impressed and would not go b...</td>\n",
       "      <td>0</td>\n",
       "      <td>yelp</td>\n",
       "    </tr>\n",
       "    <tr>\n",
       "      <th>2746</th>\n",
       "      <td>The whole experience was underwhelming, and I ...</td>\n",
       "      <td>0</td>\n",
       "      <td>yelp</td>\n",
       "    </tr>\n",
       "    <tr>\n",
       "      <th>2747</th>\n",
       "      <td>Then, as if I hadn't wasted enough of my life ...</td>\n",
       "      <td>0</td>\n",
       "      <td>yelp</td>\n",
       "    </tr>\n",
       "  </tbody>\n",
       "</table>\n",
       "<p>2748 rows × 3 columns</p>\n",
       "</div>"
      ],
      "text/plain": [
       "                                               sentence  target  source\n",
       "0     So there is no way for me to plug it in here i...       0  amazon\n",
       "1                           Good case, Excellent value.       1  amazon\n",
       "2                                Great for the jawbone.       1  amazon\n",
       "3     Tied to charger for conversations lasting more...       0  amazon\n",
       "4                                     The mic is great.       1  amazon\n",
       "...                                                 ...     ...     ...\n",
       "2743  I think food should have flavor and texture an...       0    yelp\n",
       "2744                           Appetite instantly gone.       0    yelp\n",
       "2745  Overall I was not impressed and would not go b...       0    yelp\n",
       "2746  The whole experience was underwhelming, and I ...       0    yelp\n",
       "2747  Then, as if I hadn't wasted enough of my life ...       0    yelp\n",
       "\n",
       "[2748 rows x 3 columns]"
      ]
     },
     "execution_count": 3,
     "metadata": {},
     "output_type": "execute_result"
    }
   ],
   "source": [
    "df"
   ]
  },
  {
   "cell_type": "markdown",
   "id": "d1ea990a-81f9-4856-9489-79f2e32db434",
   "metadata": {},
   "source": [
    "## Split dataset"
   ]
  },
  {
   "cell_type": "code",
   "execution_count": 4,
   "id": "656542ce-5931-49de-8e49-f975babe63fb",
   "metadata": {},
   "outputs": [],
   "source": [
    "from sklearn.model_selection import train_test_split"
   ]
  },
  {
   "cell_type": "code",
   "execution_count": 5,
   "id": "92ad2a7a-e6ec-4422-b35f-ae677afd9f09",
   "metadata": {},
   "outputs": [],
   "source": [
    "X_train, X_test, y_train, y_test = train_test_split(df[\"sentence\"], df[\"target\"], test_size=0.2, random_state=123)"
   ]
  },
  {
   "cell_type": "code",
   "execution_count": 6,
   "id": "fdfb758e-4c94-4ea9-99fa-366fa01efe1f",
   "metadata": {},
   "outputs": [
    {
     "data": {
      "text/plain": [
       "((2198,), (2198,))"
      ]
     },
     "execution_count": 6,
     "metadata": {},
     "output_type": "execute_result"
    }
   ],
   "source": [
    "X_train.shape, y_train.shape"
   ]
  },
  {
   "cell_type": "code",
   "execution_count": 7,
   "id": "e1bb92d8-8acf-49c1-b802-c6304ce14c13",
   "metadata": {},
   "outputs": [
    {
     "data": {
      "text/plain": [
       "((550,), (550,))"
      ]
     },
     "execution_count": 7,
     "metadata": {},
     "output_type": "execute_result"
    }
   ],
   "source": [
    "X_test.shape, y_test.shape"
   ]
  },
  {
   "cell_type": "markdown",
   "id": "e0b73b74-72d2-48e7-82b2-1e07bfb07b1e",
   "metadata": {},
   "source": [
    "# Preprocessing"
   ]
  },
  {
   "cell_type": "code",
   "execution_count": 8,
   "id": "b851f8dc-5f3e-46f7-99c6-32bd4c55737a",
   "metadata": {},
   "outputs": [
    {
     "name": "stderr",
     "output_type": "stream",
     "text": [
      "2024-02-04 17:10:33.834979: I tensorflow/core/platform/cpu_feature_guard.cc:182] This TensorFlow binary is optimized to use available CPU instructions in performance-critical operations.\n",
      "To enable the following instructions: AVX2 FMA, in other operations, rebuild TensorFlow with the appropriate compiler flags.\n",
      "2024-02-04 17:10:34.599959: W tensorflow/compiler/tf2tensorrt/utils/py_utils.cc:38] TF-TRT Warning: Could not find TensorRT\n"
     ]
    }
   ],
   "source": [
    "from keras.preprocessing.text import Tokenizer\n",
    "from keras.utils import pad_sequences"
   ]
  },
  {
   "cell_type": "code",
   "execution_count": 9,
   "id": "d6ff0668-f658-4803-bbf4-4fce2792e288",
   "metadata": {},
   "outputs": [],
   "source": [
    "NUM_WORDS = 5000\n",
    "MAX_LEN = 100\n",
    "\n",
    "tokenizer = Tokenizer(num_words=NUM_WORDS)\n",
    "tokenizer.fit_on_texts(X_train)  # Important be only the train data!!!"
   ]
  },
  {
   "cell_type": "code",
   "execution_count": 10,
   "id": "633f12f3-bbba-4230-8bda-5d2336c268ca",
   "metadata": {},
   "outputs": [],
   "source": [
    "import pickle\n",
    "\n",
    "with open(\"tokenizer.pkl\", \"wb\") as f:\n",
    "    pickle.dump(tokenizer, f)"
   ]
  },
  {
   "cell_type": "code",
   "execution_count": 11,
   "id": "472332c7-5269-49f1-b5b2-5bb35757f76a",
   "metadata": {},
   "outputs": [],
   "source": [
    "X_train_encoded = tokenizer.texts_to_sequences(X_train)\n",
    "X_test_encoded = tokenizer.texts_to_sequences(X_test)"
   ]
  },
  {
   "cell_type": "code",
   "execution_count": 12,
   "id": "d530a358-8b96-4ee3-a577-5cd909588533",
   "metadata": {},
   "outputs": [
    {
     "data": {
      "text/plain": [
       "[[1, 1213, 5, 20]]"
      ]
     },
     "execution_count": 12,
     "metadata": {},
     "output_type": "execute_result"
    }
   ],
   "source": [
    "tokenizer.texts_to_sequences([\"The mic is great.\"])"
   ]
  },
  {
   "cell_type": "code",
   "execution_count": 13,
   "id": "9cd66f53-52af-43b3-b25f-782eb44924e5",
   "metadata": {},
   "outputs": [],
   "source": [
    "X_train_encoded = pad_sequences(X_train_encoded, maxlen=MAX_LEN, padding=\"post\")\n",
    "X_test_encoded = pad_sequences(X_test_encoded, maxlen=MAX_LEN, padding=\"post\")"
   ]
  },
  {
   "cell_type": "code",
   "execution_count": 14,
   "id": "a1e19da4-3614-4c22-af44-624ec914eaa2",
   "metadata": {},
   "outputs": [
    {
     "data": {
      "text/plain": [
       "((2198, 100), (550, 100))"
      ]
     },
     "execution_count": 14,
     "metadata": {},
     "output_type": "execute_result"
    }
   ],
   "source": [
    "X_train_encoded.shape, X_test_encoded.shape"
   ]
  },
  {
   "cell_type": "markdown",
   "id": "c5313a82-9f2e-4ebe-8884-6b138ec7ae32",
   "metadata": {},
   "source": [
    "# MLFlow"
   ]
  },
  {
   "cell_type": "code",
   "execution_count": 15,
   "id": "3b5459e9-8113-49f7-bc11-b6f13b701cea",
   "metadata": {},
   "outputs": [],
   "source": [
    "import mlflow\n",
    "from mlflow.data.pandas_dataset import PandasDataset\n",
    "\n",
    "mlflow.set_tracking_uri(uri=\"http://127.0.0.1:8080\")"
   ]
  },
  {
   "cell_type": "code",
   "execution_count": 16,
   "id": "6c986b78-d62c-4f9f-84f4-e6555938b21b",
   "metadata": {},
   "outputs": [
    {
     "name": "stderr",
     "output_type": "stream",
     "text": [
      "/home/brenoav/.cache/pypoetry/virtualenvs/nlp-text-sentiment-analysis-QACYZSEo-py3.10/lib/python3.10/site-packages/mlflow/data/dataset_source_registry.py:150: UserWarning: The specified dataset source can be interpreted in multiple ways: LocalArtifactDatasetSource, LocalArtifactDatasetSource. MLflow will assume that this is a LocalArtifactDatasetSource source.\n",
      "  return _dataset_source_registry.resolve(\n",
      "/home/brenoav/.cache/pypoetry/virtualenvs/nlp-text-sentiment-analysis-QACYZSEo-py3.10/lib/python3.10/site-packages/mlflow/data/digest_utils.py:29: FutureWarning: DataFrame.applymap has been deprecated. Use DataFrame.map instead.\n",
      "  string_columns = trimmed_df.columns[(df.applymap(type) == str).all(0)]\n"
     ]
    }
   ],
   "source": [
    "dataset: PandasDataset = mlflow.data.from_pandas(df, source=\"data.csv\")"
   ]
  },
  {
   "cell_type": "markdown",
   "id": "81bae190-7f8d-4d26-8b23-bcb5262e65a5",
   "metadata": {},
   "source": [
    "# Experiment 3 (Keras)"
   ]
  },
  {
   "cell_type": "code",
   "execution_count": 17,
   "id": "846cb547-6ff6-421d-95e8-748278436412",
   "metadata": {},
   "outputs": [],
   "source": [
    "import tensorflow as tf\n",
    "import keras_tuner as kt\n",
    "from keras.models import Sequential\n",
    "from keras.layers import Dense, Embedding, Flatten\n",
    "from keras.optimizers import Adam\n",
    "from sklearn.metrics import accuracy_score, precision_score, recall_score, f1_score"
   ]
  },
  {
   "cell_type": "code",
   "execution_count": 18,
   "id": "7ec82794-33fe-4908-ba73-abab53774652",
   "metadata": {},
   "outputs": [
    {
     "name": "stderr",
     "output_type": "stream",
     "text": [
      "2024-02-04 17:10:35.726445: I tensorflow/compiler/xla/stream_executor/cuda/cuda_gpu_executor.cc:996] successful NUMA node read from SysFS had negative value (-1), but there must be at least one NUMA node, so returning NUMA node zero. See more at https://github.com/torvalds/linux/blob/v6.0/Documentation/ABI/testing/sysfs-bus-pci#L344-L355\n",
      "2024-02-04 17:10:35.752514: I tensorflow/compiler/xla/stream_executor/cuda/cuda_gpu_executor.cc:996] successful NUMA node read from SysFS had negative value (-1), but there must be at least one NUMA node, so returning NUMA node zero. See more at https://github.com/torvalds/linux/blob/v6.0/Documentation/ABI/testing/sysfs-bus-pci#L344-L355\n",
      "2024-02-04 17:10:35.752708: I tensorflow/compiler/xla/stream_executor/cuda/cuda_gpu_executor.cc:996] successful NUMA node read from SysFS had negative value (-1), but there must be at least one NUMA node, so returning NUMA node zero. See more at https://github.com/torvalds/linux/blob/v6.0/Documentation/ABI/testing/sysfs-bus-pci#L344-L355\n"
     ]
    }
   ],
   "source": [
    "physical_devices = tf.config.list_physical_devices('GPU')\n",
    "if physical_devices:\n",
    "    tf.config.experimental.set_memory_growth(physical_devices[0], True)"
   ]
  },
  {
   "cell_type": "code",
   "execution_count": 19,
   "id": "084ebc04-64bf-427c-99d8-3d3c123989d2",
   "metadata": {},
   "outputs": [
    {
     "data": {
      "text/plain": [
       "'194346053736584605'"
      ]
     },
     "execution_count": 19,
     "metadata": {},
     "output_type": "execute_result"
    }
   ],
   "source": [
    "experiment_name = \"sentiment_analysis_tf_dense\"\n",
    "\n",
    "experiment_tags = {\n",
    "    \"nlp.framework\": \"TensorFlow\",\n",
    "    \"nlp.encoding\": \"Tokenizer\",\n",
    "    \"nlp.model\": \"Dense Network\",\n",
    "    \"nlp.task\": \"Sentiment Analysis\"\n",
    "}\n",
    "\n",
    "mlflow.create_experiment(name=experiment_name,\n",
    "                         artifact_location=\"mlartifacts\",\n",
    "                         tags=experiment_tags)"
   ]
  },
  {
   "cell_type": "code",
   "execution_count": 20,
   "id": "2f60b71e-1e1d-4158-8089-f1c12af916d8",
   "metadata": {},
   "outputs": [],
   "source": [
    "class DenseHyperModel(kt.HyperModel):\n",
    "    def build(self, hp):\n",
    "        kernel_regularizer = hp.Choice(\"kernel_regularizer\", [\"None\", \"l2\"])\n",
    "\n",
    "        if kernel_regularizer.lower() == \"none\":\n",
    "            kernel_regularizer = None\n",
    "\n",
    "        model = Sequential(name=\"DenseNetwork\")\n",
    "        model.add(Embedding(input_dim=len(tokenizer.index_word) + 1, \n",
    "                            output_dim=hp.Choice(\"ouput_dim\", [50, 75, 100]), \n",
    "                            input_length=MAX_LEN))\n",
    "        model.add(Flatten())\n",
    "        for i in range(hp.Int(\"num_layers\", 1, 2)):\n",
    "            model.add(Dense(units=hp.Choice(\"units\", [16, 32, 64]), \n",
    "                            activation=hp.Choice(\"activation\", [\"relu\", \"tanh\"]), \n",
    "                            kernel_regularizer=kernel_regularizer))\n",
    "        model.add(Dense(units=1, activation=\"sigmoid\"))\n",
    "\n",
    "        model.compile(loss=\"binary_crossentropy\", \n",
    "                      optimizer=Adam(learning_rate=hp.Choice(\"lr\", [1e-2, 1e-3])),\n",
    "                      metrics=[\"accuracy\"])\n",
    "\n",
    "        return model\n",
    "\n",
    "    def fit(self, hp, model, *args, **kwargs):\n",
    "        return model.fit(\n",
    "            *args,\n",
    "            **kwargs,\n",
    "        )"
   ]
  },
  {
   "cell_type": "code",
   "execution_count": 21,
   "id": "d2c4771f-beb3-48a4-961a-55f85bb32baf",
   "metadata": {},
   "outputs": [
    {
     "name": "stdout",
     "output_type": "stream",
     "text": [
      "Trial 25 Complete [00h 00m 01s]\n",
      "val_accuracy: 0.7890909314155579\n",
      "\n",
      "Best val_accuracy So Far: 0.8218181729316711\n",
      "Total elapsed time: 00h 00m 46s\n",
      "Epoch 1/500\n",
      "69/69 [==============================] - 1s 3ms/step - loss: 0.8751 - accuracy: 0.5369 - val_loss: 0.6914 - val_accuracy: 0.5527\n",
      "Epoch 2/500\n",
      "69/69 [==============================] - 0s 2ms/step - loss: 0.6290 - accuracy: 0.7944 - val_loss: 0.6226 - val_accuracy: 0.7455\n",
      "Epoch 3/500\n",
      "69/69 [==============================] - 0s 2ms/step - loss: 0.4558 - accuracy: 0.9167 - val_loss: 0.5851 - val_accuracy: 0.7745\n",
      "Epoch 4/500\n",
      "69/69 [==============================] - 0s 2ms/step - loss: 0.3251 - accuracy: 0.9645 - val_loss: 0.5536 - val_accuracy: 0.8109\n",
      "Epoch 5/500\n",
      "69/69 [==============================] - 0s 2ms/step - loss: 0.2506 - accuracy: 0.9809 - val_loss: 0.5532 - val_accuracy: 0.8073\n",
      "Epoch 6/500\n",
      "69/69 [==============================] - 0s 2ms/step - loss: 0.1965 - accuracy: 0.9886 - val_loss: 0.5410 - val_accuracy: 0.8073\n",
      "Epoch 7/500\n",
      "69/69 [==============================] - 0s 2ms/step - loss: 0.1652 - accuracy: 0.9923 - val_loss: 0.5863 - val_accuracy: 0.7491\n",
      "Epoch 8/500\n",
      "69/69 [==============================] - 0s 2ms/step - loss: 0.1417 - accuracy: 0.9955 - val_loss: 0.5310 - val_accuracy: 0.8073\n",
      "Epoch 9/500\n",
      "69/69 [==============================] - 0s 2ms/step - loss: 0.1254 - accuracy: 0.9959 - val_loss: 0.5621 - val_accuracy: 0.7891\n",
      "Epoch 10/500\n",
      "69/69 [==============================] - 0s 2ms/step - loss: 0.1098 - accuracy: 0.9973 - val_loss: 0.5268 - val_accuracy: 0.8091\n",
      "Epoch 11/500\n",
      "69/69 [==============================] - 0s 2ms/step - loss: 0.1004 - accuracy: 0.9977 - val_loss: 0.5381 - val_accuracy: 0.7945\n",
      "Epoch 12/500\n",
      "69/69 [==============================] - 0s 2ms/step - loss: 0.0909 - accuracy: 0.9973 - val_loss: 0.5459 - val_accuracy: 0.8000\n",
      "Epoch 13/500\n",
      "69/69 [==============================] - 0s 2ms/step - loss: 0.0834 - accuracy: 0.9991 - val_loss: 0.5347 - val_accuracy: 0.7945\n",
      "18/18 [==============================] - 0s 798us/step\n",
      "69/69 [==============================] - 0s 686us/step\n"
     ]
    },
    {
     "name": "stderr",
     "output_type": "stream",
     "text": [
      "/home/brenoav/.cache/pypoetry/virtualenvs/nlp-text-sentiment-analysis-QACYZSEo-py3.10/lib/python3.10/site-packages/mlflow/types/utils.py:393: UserWarning: Hint: Inferred schema contains integer column(s). Integer columns in Python cannot represent missing values. If your input data contains missing values at inference time, it will be encoded as floats and will cause a schema enforcement error. The best way to avoid this problem is to infer the model schema based on a realistic data sample (training dataset) that includes missing values. Alternatively, you can declare integer columns as doubles (float64) whenever these columns may have missing values. See `Handling Integers With Missing Values <https://www.mlflow.org/docs/latest/models.html#handling-integers-with-missing-values>`_ for more details.\n",
      "  warnings.warn(\n"
     ]
    },
    {
     "name": "stdout",
     "output_type": "stream",
     "text": [
      "INFO:tensorflow:Assets written to: /tmp/tmpvurtidf2/model/data/model/assets\n"
     ]
    },
    {
     "name": "stderr",
     "output_type": "stream",
     "text": [
      "/home/brenoav/.cache/pypoetry/virtualenvs/nlp-text-sentiment-analysis-QACYZSEo-py3.10/lib/python3.10/site-packages/_distutils_hack/__init__.py:33: UserWarning: Setuptools is replacing distutils.\n",
      "  warnings.warn(\"Setuptools is replacing distutils.\")\n"
     ]
    }
   ],
   "source": [
    "mlflow.set_experiment(experiment_name=experiment_name)  # It could be use the ID too\n",
    "\n",
    "tuner = kt.RandomSearch(\n",
    "    DenseHyperModel(),\n",
    "    objective='val_accuracy',\n",
    "    max_trials=25,\n",
    "    seed=123,\n",
    "    overwrite=True,\n",
    "    directory=\"keras-tuner\",\n",
    "    project_name=\"sentiment_analysis\"\n",
    ")\n",
    "\n",
    "stop_early = tf.keras.callbacks.EarlyStopping(monitor='val_loss', patience=3)\n",
    "tuner.search(x=X_train_encoded, y=y_train, \n",
    "             epochs=500,\n",
    "             validation_data=(X_test_encoded, y_test),\n",
    "             callbacks=[stop_early])\n",
    "\n",
    "best_hps = tuner.get_best_hyperparameters(num_trials=1)[0]\n",
    "model = tuner.hypermodel.build(best_hps)\n",
    "history = model.fit(X_train_encoded, \n",
    "                    y_train, \n",
    "                    validation_data=(X_test_encoded, y_test),\n",
    "                    callbacks=[stop_early],\n",
    "                    epochs=500,\n",
    ")\n",
    "\n",
    "y_pred = tf.math.round(model.predict(X_test_encoded))\n",
    "\n",
    "accuracy = accuracy_score(y_true=y_test, y_pred=y_pred)\n",
    "precision = precision_score(y_true=y_test, y_pred=y_pred)\n",
    "recall = recall_score(y_true=y_test, y_pred=y_pred)\n",
    "f1 = f1_score(y_true=y_test, y_pred=y_pred)\n",
    "\n",
    "metrics = {\n",
    "    \"accuracy\": accuracy,\n",
    "    \"precision\": precision,\n",
    "    \"recall\": recall,\n",
    "    \"f1\": f1\n",
    "}\n",
    "\n",
    "run_name = \"_\".join([f\"{k}_{v}\" for k, v in best_hps.values.items()])\n",
    "\n",
    "with mlflow.start_run(run_name=run_name):\n",
    "    # Log the hyperparameters\n",
    "    mlflow.log_params(best_hps.values)\n",
    "\n",
    "    # Log the metrics\n",
    "    mlflow.log_metrics(metrics)\n",
    "    ## Graph of accuracies and losses\n",
    "    h = history.history\n",
    "    for j, (train_loss, train_acc, test_loss, test_acc) in enumerate(zip(h[\"loss\"], h[\"accuracy\"], h[\"val_loss\"], h[\"val_accuracy\"])):\n",
    "        mlflow.log_metric(key=\"train_loss\", value=train_loss, step=j)\n",
    "        mlflow.log_metric(key=\"train_acc\", value=train_acc, step=j)\n",
    "        mlflow.log_metric(key=\"test_loss\", value=test_loss, step=j)\n",
    "        mlflow.log_metric(key=\"test_acc\", value=test_acc, step=j)\n",
    "\n",
    "    # Log the dataset\n",
    "    mlflow.log_input(dataset, context=\"training\")\n",
    "\n",
    "    # Log the model ! New versions it is mlflow.keras !\n",
    "    mlflow.tensorflow.log_model(model=model,\n",
    "                                artifact_path=\"mlartifacts\",\n",
    "                                input_example=X_train_encoded)\n",
    "\n",
    "    mlflow.log_artifact(\"keras-tuner\", artifact_path=\"mlartifacts\")\n",
    "    \n",
    "    mlflow.log_artifact(\"tokenizer.pkl\", artifact_path=\"mlartifacts\")"
   ]
  },
  {
   "cell_type": "markdown",
   "id": "f6201cc2-9aa8-4446-a7eb-7005b7a22639",
   "metadata": {},
   "source": [
    "This Jupyter Notebook was **created by BrenoAV**. For any inquiries or feedback, please feel free to create an issue on [GitHub](https://github.com/BrenoAV/NLP-Sentiment-Analysis/issues) 📣."
   ]
  },
  {
   "cell_type": "code",
   "execution_count": null,
   "id": "21fce1e5-90e1-4161-9cd5-e6b81f429160",
   "metadata": {},
   "outputs": [],
   "source": []
  }
 ],
 "metadata": {
  "kernelspec": {
   "display_name": "Python 3 (ipykernel)",
   "language": "python",
   "name": "python3"
  },
  "language_info": {
   "codemirror_mode": {
    "name": "ipython",
    "version": 3
   },
   "file_extension": ".py",
   "mimetype": "text/x-python",
   "name": "python",
   "nbconvert_exporter": "python",
   "pygments_lexer": "ipython3",
   "version": "3.10.13"
  }
 },
 "nbformat": 4,
 "nbformat_minor": 5
}
