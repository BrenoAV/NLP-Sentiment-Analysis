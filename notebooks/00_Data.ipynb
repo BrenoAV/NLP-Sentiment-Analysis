{
 "cells": [
  {
   "cell_type": "markdown",
   "id": "be3afb7f-7609-4049-a071-93d2f5d51ac9",
   "metadata": {},
   "source": [
    "# Data"
   ]
  },
  {
   "cell_type": "markdown",
   "id": "d31ee2fb-30b3-4728-8578-aaee70a30324",
   "metadata": {},
   "source": [
    "The dataset used on this jupyter notebook analysis can be downloaded on [Institute of Computational Science](https://www.ics.usi.ch/): https://archive.ics.uci.edu/dataset/331/sentiment+labelled+sentences\n",
    "\n",
    "**Author:** BrenoAV\n",
    "\n",
    "**Last Date Modified:** 2/4/2024"
   ]
  },
  {
   "cell_type": "markdown",
   "id": "46b64676-0534-48df-8ad7-56e3cb653382",
   "metadata": {},
   "source": [
    "# Download Dataset"
   ]
  },
  {
   "cell_type": "code",
   "execution_count": 1,
   "id": "3918bac8-7fbf-4750-a32b-a378dd81dda2",
   "metadata": {},
   "outputs": [],
   "source": [
    "import pandas as pd\n",
    "import requests\n",
    "import zipfile"
   ]
  },
  {
   "cell_type": "code",
   "execution_count": 2,
   "id": "bf097da1-11b6-4989-b5d0-492d8a15a06a",
   "metadata": {},
   "outputs": [],
   "source": [
    "with requests.Session() as session:\n",
    "    r = session.get(\"https://archive.ics.uci.edu/static/public/331/sentiment+labelled+sentences.zip\", \n",
    "                    timeout=5)\n",
    "    with open(\"data.zip\", mode=\"wb\") as f:\n",
    "        f.write(r.content)"
   ]
  },
  {
   "cell_type": "markdown",
   "id": "91a8e0e9-194f-4b8a-bb29-4de3993c7903",
   "metadata": {},
   "source": [
    "# Load Dataset"
   ]
  },
  {
   "cell_type": "code",
   "execution_count": 3,
   "id": "0a98bbff-9074-451f-b6fc-1fad7ba3cb01",
   "metadata": {},
   "outputs": [],
   "source": [
    "list_datasets = []\n",
    "\n",
    "dataset_path = {\n",
    "    \"amazon\": \"sentiment labelled sentences/amazon_cells_labelled.txt\",\n",
    "    \"imdb\": \"sentiment labelled sentences/imdb_labelled.txt\",\n",
    "    \"yelp\": \"sentiment labelled sentences/yelp_labelled.txt\"\n",
    "    \n",
    "}\n",
    "\n",
    "with zipfile.ZipFile(\"data.zip\", mode=\"r\") as zip_file:\n",
    "    for source, path in dataset_path.items():\n",
    "        with zip_file.open(path, \"r\") as file:\n",
    "            df_tmp = pd.read_csv(file, \n",
    "                                 sep=\"\\t\",\n",
    "                                 names=[\"sentence\", \"target\"],\n",
    "                                 encoding=\"utf-8\")\n",
    "            df_tmp[\"source\"] = source\n",
    "            list_datasets.append(df_tmp)\n",
    "\n",
    "df = pd.concat(list_datasets, axis=0)"
   ]
  },
  {
   "cell_type": "code",
   "execution_count": 4,
   "id": "4f7eaa2c-1888-4e14-9de6-543817eaa9f3",
   "metadata": {},
   "outputs": [
    {
     "data": {
      "text/html": [
       "<div>\n",
       "<style scoped>\n",
       "    .dataframe tbody tr th:only-of-type {\n",
       "        vertical-align: middle;\n",
       "    }\n",
       "\n",
       "    .dataframe tbody tr th {\n",
       "        vertical-align: top;\n",
       "    }\n",
       "\n",
       "    .dataframe thead th {\n",
       "        text-align: right;\n",
       "    }\n",
       "</style>\n",
       "<table border=\"1\" class=\"dataframe\">\n",
       "  <thead>\n",
       "    <tr style=\"text-align: right;\">\n",
       "      <th></th>\n",
       "      <th>sentence</th>\n",
       "      <th>target</th>\n",
       "      <th>source</th>\n",
       "    </tr>\n",
       "  </thead>\n",
       "  <tbody>\n",
       "    <tr>\n",
       "      <th>0</th>\n",
       "      <td>So there is no way for me to plug it in here i...</td>\n",
       "      <td>0</td>\n",
       "      <td>amazon</td>\n",
       "    </tr>\n",
       "    <tr>\n",
       "      <th>1</th>\n",
       "      <td>Good case, Excellent value.</td>\n",
       "      <td>1</td>\n",
       "      <td>amazon</td>\n",
       "    </tr>\n",
       "    <tr>\n",
       "      <th>2</th>\n",
       "      <td>Great for the jawbone.</td>\n",
       "      <td>1</td>\n",
       "      <td>amazon</td>\n",
       "    </tr>\n",
       "    <tr>\n",
       "      <th>3</th>\n",
       "      <td>Tied to charger for conversations lasting more...</td>\n",
       "      <td>0</td>\n",
       "      <td>amazon</td>\n",
       "    </tr>\n",
       "    <tr>\n",
       "      <th>4</th>\n",
       "      <td>The mic is great.</td>\n",
       "      <td>1</td>\n",
       "      <td>amazon</td>\n",
       "    </tr>\n",
       "    <tr>\n",
       "      <th>...</th>\n",
       "      <td>...</td>\n",
       "      <td>...</td>\n",
       "      <td>...</td>\n",
       "    </tr>\n",
       "    <tr>\n",
       "      <th>995</th>\n",
       "      <td>I think food should have flavor and texture an...</td>\n",
       "      <td>0</td>\n",
       "      <td>yelp</td>\n",
       "    </tr>\n",
       "    <tr>\n",
       "      <th>996</th>\n",
       "      <td>Appetite instantly gone.</td>\n",
       "      <td>0</td>\n",
       "      <td>yelp</td>\n",
       "    </tr>\n",
       "    <tr>\n",
       "      <th>997</th>\n",
       "      <td>Overall I was not impressed and would not go b...</td>\n",
       "      <td>0</td>\n",
       "      <td>yelp</td>\n",
       "    </tr>\n",
       "    <tr>\n",
       "      <th>998</th>\n",
       "      <td>The whole experience was underwhelming, and I ...</td>\n",
       "      <td>0</td>\n",
       "      <td>yelp</td>\n",
       "    </tr>\n",
       "    <tr>\n",
       "      <th>999</th>\n",
       "      <td>Then, as if I hadn't wasted enough of my life ...</td>\n",
       "      <td>0</td>\n",
       "      <td>yelp</td>\n",
       "    </tr>\n",
       "  </tbody>\n",
       "</table>\n",
       "<p>2748 rows × 3 columns</p>\n",
       "</div>"
      ],
      "text/plain": [
       "                                              sentence  target  source\n",
       "0    So there is no way for me to plug it in here i...       0  amazon\n",
       "1                          Good case, Excellent value.       1  amazon\n",
       "2                               Great for the jawbone.       1  amazon\n",
       "3    Tied to charger for conversations lasting more...       0  amazon\n",
       "4                                    The mic is great.       1  amazon\n",
       "..                                                 ...     ...     ...\n",
       "995  I think food should have flavor and texture an...       0    yelp\n",
       "996                           Appetite instantly gone.       0    yelp\n",
       "997  Overall I was not impressed and would not go b...       0    yelp\n",
       "998  The whole experience was underwhelming, and I ...       0    yelp\n",
       "999  Then, as if I hadn't wasted enough of my life ...       0    yelp\n",
       "\n",
       "[2748 rows x 3 columns]"
      ]
     },
     "execution_count": 4,
     "metadata": {},
     "output_type": "execute_result"
    }
   ],
   "source": [
    "df"
   ]
  },
  {
   "cell_type": "markdown",
   "id": "edae56b3-d42d-40eb-8cbd-1a28118b7d69",
   "metadata": {},
   "source": [
    "# Save dataset"
   ]
  },
  {
   "cell_type": "code",
   "execution_count": 5,
   "id": "9065f224-1fbd-4f6c-927c-4bb0995a0fd3",
   "metadata": {},
   "outputs": [],
   "source": [
    "df.to_csv(\"data.csv\", sep=\"\\t\", index=False, encoding=\"utf-8\")"
   ]
  },
  {
   "cell_type": "markdown",
   "id": "b53bff8d-4d39-4b28-9dac-3c2dd946df05",
   "metadata": {},
   "source": [
    "This Jupyter Notebook was **created by BrenoAV**. For any inquiries or feedback, please feel free to create an issue on [GitHub](https://github.com/BrenoAV/NLP-Sentiment-Analysis/issues) 📣."
   ]
  },
  {
   "cell_type": "code",
   "execution_count": null,
   "id": "773f6b0a-bca0-4023-8141-0335aa83422d",
   "metadata": {},
   "outputs": [],
   "source": []
  }
 ],
 "metadata": {
  "kernelspec": {
   "display_name": "Python 3 (ipykernel)",
   "language": "python",
   "name": "python3"
  },
  "language_info": {
   "codemirror_mode": {
    "name": "ipython",
    "version": 3
   },
   "file_extension": ".py",
   "mimetype": "text/x-python",
   "name": "python",
   "nbconvert_exporter": "python",
   "pygments_lexer": "ipython3",
   "version": "3.10.13"
  }
 },
 "nbformat": 4,
 "nbformat_minor": 5
}
